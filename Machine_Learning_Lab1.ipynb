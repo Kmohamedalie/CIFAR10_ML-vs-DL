{
  "nbformat": 4,
  "nbformat_minor": 0,
  "metadata": {
    "colab": {
      "provenance": [],
      "collapsed_sections": [],
      "authorship_tag": "ABX9TyPL1JONhM+rdXhqbnDaU66E",
      "include_colab_link": true
    },
    "kernelspec": {
      "name": "python3",
      "display_name": "Python 3"
    },
    "language_info": {
      "name": "python"
    }
  },
  "cells": [
    {
      "cell_type": "markdown",
      "metadata": {
        "id": "view-in-github",
        "colab_type": "text"
      },
      "source": [
        "<a href=\"https://colab.research.google.com/github/Kmohamedalie/DTM_Machine_learning_LABS/blob/master/Machine_Learning_Lab1.ipynb\" target=\"_parent\"><img src=\"https://colab.research.google.com/assets/colab-badge.svg\" alt=\"Open In Colab\"/></a>"
      ]
    },
    {
      "cell_type": "markdown",
      "source": [
        "<h1><b>Google colab lesson 1</b></h1>\n",
        "<p> This is my first Machine Learning lesson and first colab </p>\n"
      ],
      "metadata": {
        "id": "xh3JVAnfd5_L"
      }
    },
    {
      "cell_type": "code",
      "execution_count": null,
      "metadata": {
        "colab": {
          "base_uri": "https://localhost:8080/"
        },
        "id": "nb9_eatDduqg",
        "outputId": "93da0365-0fc7-4d43-dbee-b70fbc9070d6"
      },
      "outputs": [
        {
          "output_type": "stream",
          "name": "stdout",
          "text": [
            "This is Machine Learning lesson!\n"
          ]
        }
      ],
      "source": [
        "print(\"This is Machine Learning lesson!\")"
      ]
    }
  ]
}