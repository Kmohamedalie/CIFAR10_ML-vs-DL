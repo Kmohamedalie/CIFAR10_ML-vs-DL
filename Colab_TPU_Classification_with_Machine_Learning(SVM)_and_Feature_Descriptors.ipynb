{
  "cells": [
    {
      "cell_type": "markdown",
      "source": [
        "# **Machine Learning** \n",
        "Machine learning: is a branch of AI (artificial intelligence) and computer science that focuses on using data and algorithms to mimic how humans learn, gradually improving its accuracy. <a href=\"https://www.ibm.com/it-it/cloud/learn/machine-learning?utm_content=SRCWW&p1=Search&p4=43700068096860752&p5=e&gclid=Cj0KCQiAq5meBhCyARIsAJrtdr7E2ZBLXuBKgWyGOKpIswvC-8dzOiWJvZpfGW6XbDBZ2E0f9oVEpFYaAjigEALw_wcB&gclsrc=aw.ds\">IBM</a>"
      ],
      "metadata": {
        "id": "KC4uYzRpJ7pG"
      }
    },
    {
      "cell_type": "markdown",
      "source": [
        "### **Computer Vision** \n",
        "Computer vision: is a field of artificial intelligence that trains computers to interpret and  understand the visual world.Using digital images from cameras and videos and deep learning models,machines can accurately identify and classify objects — and then react to what they “see.” <a href=\"https://www.sas.com/en_us/insights/analytics/computer-vision.html#:~:text=Computer%20vision%20is%20a%20field,to%20what%20they%20%E2%80%9Csee.%E2%80%9D\">SAS<a>\n",
        "\n",
        "\n",
        "<img src=\"https://d1m75rqqgidzqn.cloudfront.net/2019/10/shutterstock_158795060.jpg\" width=\"600\" height=\"150\" alt=\"Computer vision\">\n",
        "\n",
        "\n",
        "\n"
      ],
      "metadata": {
        "id": "JPEpjKVaKB8v"
      }
    },
    {
      "cell_type": "markdown",
      "source": [
        "### **Feature_Descriptors**\n",
        "Feature_Descriptors: \n",
        "A feature descriptor is a method that extracts the feature descriptions for an interest point (or the full image). Feature descriptors serve as a kind of numerical “fingerprint” that we can use to distinguish one feature from another by encoding interesting information into a string of numbers. <a href=\"https://www.baeldung.com/cs/image-processing-feature-descriptors\">Baeldung</a>\n",
        "\n"
      ],
      "metadata": {
        "id": "IoEHCb-VKJu3"
      }
    },
    {
      "cell_type": "markdown",
      "source": [
        "### **Task**\n",
        "Image classification of <a href=\"https://www.cs.toronto.edu/~kriz/cifar.html\">CIFAR10</a> dataset using Machine Learning classifiers and Feature Descriptors\n",
        "\n",
        "<img src=\"https://production-media.paperswithcode.com/datasets/4fdf2b82-2bc3-4f97-ba51-400322b228b1.png\">"
      ],
      "metadata": {
        "id": "C1x1YmdULzSf"
      }
    },
    {
      "cell_type": "markdown",
      "metadata": {
        "id": "tdut7TZxEQm7"
      },
      "source": [
        "### Part 0 - Importing the libraries\n",
        "Let's start importing some libraries.\n",
        "In particular, `sklearn` is the library for the **Machine Learning stuff**!"
      ]
    },
    {
      "cell_type": "code",
      "execution_count": null,
      "metadata": {
        "id": "mDBPJpyHebsR"
      },
      "outputs": [],
      "source": [
        "import sklearn\n",
        "import numpy as np\n",
        "from sklearn import svm\n",
        "from sklearn.ensemble import RandomForestClassifier\n",
        "from sklearn.metrics import accuracy_score, confusion_matrix\n",
        "from sklearn.metrics import plot_confusion_matrix\n",
        "import matplotlib.pyplot as plt\n",
        "from glob import glob\n",
        "from os.path import join\n",
        "import cv2\n",
        "from skimage.feature import hog, local_binary_pattern\n",
        "from tqdm import tqdm\n",
        "\n",
        "# import tensorflow and keras just to get the cifar10 dataset\n",
        "import tensorflow as tf\n",
        "from tensorflow import keras"
      ]
    },
    {
      "cell_type": "markdown",
      "metadata": {
        "id": "LFF_VUNP4Ebx"
      },
      "source": [
        "The seed is important to have **deterministic** experiments.\n",
        "\n",
        "The `seed()` method is used to initialize the random number generator.\n",
        "The random number generator needs a number to start with (a seed value), to be able to generate a random number."
      ]
    },
    {
      "cell_type": "code",
      "execution_count": null,
      "metadata": {
        "id": "t69ZUKfqel8D"
      },
      "outputs": [],
      "source": [
        "np.random.seed(1821)"
      ]
    },
    {
      "cell_type": "markdown",
      "metadata": {
        "id": "H2xmaZC9EfLR"
      },
      "source": [
        "### Part 1 - Functions and Classes\n",
        "`get_labels()` is a function that receives a name (`string`) and returns the class (`int`), following this:\n",
        "\n",
        "*   airplane:   0        \n",
        "*   automobile: 1\n",
        "*   bird:       2\n",
        "*   cat:        3\n",
        "*   deer:       4\n",
        "*   dog:        5\n",
        "*   frog:       6\n",
        "*   horse:      7\n",
        "*   ship:       8\n",
        "*   truck:      9"
      ]
    },
    {
      "cell_type": "code",
      "execution_count": null,
      "metadata": {
        "id": "KWQWAdv7l9v7"
      },
      "outputs": [],
      "source": [
        "# CIFAR -10\n",
        "def get_labels(name):\n",
        "    if 'airplane' in name:\n",
        "        return 0\n",
        "    elif 'automobile' in name:\n",
        "        return 1\n",
        "    elif 'bird' in name:\n",
        "        return 2\n",
        "    elif 'cat' in name:\n",
        "        return 3\n",
        "    elif 'deer' in name:\n",
        "        return 4\n",
        "    elif 'dog' in name:\n",
        "        return 5\n",
        "    elif 'frog' in name:\n",
        "        return 6\n",
        "    elif 'horse' in name:\n",
        "        return 7\n",
        "    elif 'ship' in name:\n",
        "        return 8\n",
        "    elif 'truck' in name:\n",
        "        return 9                                    \n",
        "    else:\n",
        "        raise NotImplementedError('Not existing class!')"
      ]
    },
    {
      "cell_type": "markdown",
      "metadata": {
        "id": "07rdgQ1ZE0eq"
      },
      "source": [
        "`extract_feature()` is a function that, given a list of images, compute a Feature Descriptor.\n",
        "We are going to use two libraries: `opencv` to handle images (opening, resizing) and `skimage` to compute features.\n",
        "\n",
        "Specifically:\n",
        "* `feat_type=1` → function computes HOG\n",
        "* `feat_type=2` → function computes LBP\n",
        "* `feat_type=3` → function does not computes any feature, but simply unroll the input image\n",
        "\n",
        "**Tools**:\n",
        "*   `cv2.imread()`: open an image (0: gray level, 1: BGR)\n",
        "*   `cv2.resize()`: resize an image\n",
        "*   `hog()`: compute HOG feature\n",
        "*   `lbp()`: compute LBP feature\n",
        "\n",
        "Be aware that the feature computation time (and the final accuracy of the model) are strictly related to the image size!\n"
      ]
    },
    {
      "cell_type": "code",
      "execution_count": null,
      "metadata": {
        "id": "A_WRkcIHesWG"
      },
      "outputs": [],
      "source": [
        "def extract_features(images, feat_type, img_size):\n",
        "\n",
        "    labels = []\n",
        "    features = []\n",
        "\n",
        "    for image in tqdm(images):\n",
        "\n",
        "        # open the image use 1 for BGR or colored images/ 3 channel\n",
        "        img = cv2.imread(image, 1)\n",
        "\n",
        "        # resize the image\n",
        "        img = cv2.resize(img, (img_size, img_size))\n",
        "\n",
        "        # compute the features\n",
        "        if feat_type == 'hog':\n",
        "            feat = hog(img, orientations=8, pixels_per_cell=(4, 4), cells_per_block=(1, 1))\n",
        "        elif feat_type == 'lbp':\n",
        "            feat = np.ravel(local_binary_pattern(img, P=100, R=5))\n",
        "        elif feat_type == 'img':\n",
        "            img = img / 255.0\n",
        "            feat = np.ravel(img)\n",
        "        else:\n",
        "            raise NotImplementedError('Not implemented feature!')\n",
        "\n",
        "        # append features and labels\n",
        "        features.append(feat)\n",
        "        labels.append(get_labels(image))\n",
        "\n",
        "    return features, labels"
      ]
    },
    {
      "cell_type": "markdown",
      "metadata": {
        "id": "QFZvmuB8Hz0K"
      },
      "source": [
        "### Part 2 - Load Data\n",
        "\n",
        "\n",
        "1.   Upload the `.zip` file containing the *Cifar10* dataset\n",
        "2.   Unzip the file using the following comand. Dataset folders will appear in `/content`\n",
        "\n"
      ]
    },
    {
      "cell_type": "code",
      "execution_count": null,
      "metadata": {
        "id": "3lU6weCfaNsJ"
      },
      "outputs": [],
      "source": [
        "!unzip -q cifar10.zip -d /content"
      ]
    },
    {
      "cell_type": "markdown",
      "metadata": {
        "id": "imH9SgIjJwPZ"
      },
      "source": [
        "Let's create a list of all images available in the dataset.\n",
        "\n",
        "**Tools**:\n",
        "* `join()`: joins one or more path components intelligently. The return value is the concatenation of path.\n",
        "* `glob()`: returns a possibly empty list of path names that match names. Wildcards (in that case `*` are allowed!)"
      ]
    },
    {
      "cell_type": "code",
      "execution_count": null,
      "metadata": {
        "id": "vGRRLhPvaeyq",
        "colab": {
          "base_uri": "https://localhost:8080/"
        },
        "outputId": "4634442d-3183-48b3-f482-3d469105efe7"
      },
      "outputs": [
        {
          "output_type": "stream",
          "name": "stdout",
          "text": [
            "Images:  50000\n"
          ]
        }
      ],
      "source": [
        "dataset_path_train = './train'\n",
        "images_train = glob(join(dataset_path_train, '*', '*.png'))\n",
        "print('Images: ', len(images_train))"
      ]
    },
    {
      "cell_type": "code",
      "execution_count": null,
      "metadata": {
        "id": "HLb-269Cb9P4",
        "colab": {
          "base_uri": "https://localhost:8080/"
        },
        "outputId": "9963296b-6676-414d-f9ab-ac8d7e8a0ce5"
      },
      "outputs": [
        {
          "output_type": "stream",
          "name": "stdout",
          "text": [
            "Images:  10000\n"
          ]
        }
      ],
      "source": [
        "dataset_path_test = './test'\n",
        "images_test = glob(join(dataset_path_test, '*', '*.png'))\n",
        "print('Images: ', len(images_test ))"
      ]
    },
    {
      "cell_type": "code",
      "execution_count": null,
      "metadata": {
        "id": "646Ifi_EoKn0",
        "colab": {
          "base_uri": "https://localhost:8080/"
        },
        "outputId": "e61ef66d-3692-415e-b220-63dfe95eb425"
      },
      "outputs": [
        {
          "output_type": "execute_result",
          "data": {
            "text/plain": [
              "list"
            ]
          },
          "metadata": {},
          "execution_count": 8
        }
      ],
      "source": [
        "type(images_test)"
      ]
    },
    {
      "cell_type": "markdown",
      "source": [
        "### Part 3.1 - Splitting the data into Training, Validation and testing"
      ],
      "metadata": {
        "id": "p5i81RT6MPye"
      }
    },
    {
      "cell_type": "markdown",
      "metadata": {
        "id": "YzS4_3PyKz3L"
      },
      "source": [
        "in this case it is essential to have a **training**, **validation** and **test** sets. \n",
        "\n",
        "Training data are used to train the model, while the validation split is used to assess performance.\n",
        "\n",
        "Test final accuracy of our model.\n",
        "\n",
        "We put **70% of data in training**, **30% in validation** from the training dataset folder, and the  **100% of unseen testing dataset from the test folder**."
      ]
    },
    {
      "cell_type": "code",
      "execution_count": null,
      "metadata": {
        "id": "A-eFY2duNCnF",
        "colab": {
          "base_uri": "https://localhost:8080/"
        },
        "outputId": "2a0fbe29-f313-474f-edb2-2b7761c068ac"
      },
      "outputs": [
        {
          "output_type": "stream",
          "name": "stdout",
          "text": [
            "Total: 60000 splitted in Train: 35000, Val: 15000 and Test: 10000\n"
          ]
        }
      ],
      "source": [
        "# shuffle both test and train images extracted from the zip folder\n",
        "np.random.shuffle(images_train)\n",
        "np.random.shuffle(images_test)\n",
        "\n",
        "# split and assign 70% of the data to trainset\n",
        "trainset = images_train[:int(0.7*len(images_train))]\n",
        "# 30% of the data to valset\n",
        "valset = images_train[int(0.7*len(images_train)):]\n",
        "# test assign to previous loaded images_test\n",
        "testset = images_test\n",
        "length = valset + trainset\n",
        "print('Total: {} splitted in Train: {}, Val: {} and Test: {}'.format(len(images_test + images_train), len(trainset), len(valset), len(testset)))"
      ]
    },
    {
      "cell_type": "markdown",
      "metadata": {
        "id": "LNOQaDmiLGr5"
      },
      "source": [
        "Here, we define two important elements: the **size of the images** (used to compute feature descriptors) and the **type of features**.\n",
        "We use a **progress bar** (`tqdm`) to show the state of the feature computation!"
      ]
    },
    {
      "cell_type": "code",
      "source": [
        "# Analyze also the computational load, in terms of time, of the solution\n",
        "import time\n",
        "\n",
        "st = time.time()"
      ],
      "metadata": {
        "id": "nd_id0nWqRsE"
      },
      "execution_count": null,
      "outputs": []
    },
    {
      "cell_type": "code",
      "source": [
        "# classifierAlgorithm + 128x128 + HOG\n",
        "img_size = 128\n",
        "feature_type = 'hog'\n",
        "\n",
        "train_x, train_y = extract_features(trainset, feature_type, img_size)\n",
        "val_x, val_y = extract_features(valset, feature_type, img_size)\n",
        "test_x, test_y = extract_features(testset, feature_type, img_size)"
      ],
      "metadata": {
        "id": "RdvXMfYmag5r",
        "colab": {
          "base_uri": "https://localhost:8080/"
        },
        "outputId": "dcef596c-0f51-4790-b329-b3fee1babc27"
      },
      "execution_count": null,
      "outputs": [
        {
          "output_type": "stream",
          "name": "stderr",
          "text": [
            "100%|██████████| 35000/35000 [15:50<00:00, 36.82it/s]\n",
            "100%|██████████| 15000/15000 [06:45<00:00, 36.96it/s]\n",
            "100%|██████████| 10000/10000 [04:28<00:00, 37.24it/s]\n"
          ]
        }
      ]
    },
    {
      "cell_type": "markdown",
      "metadata": {
        "id": "wGSi5BgULZkh"
      },
      "source": [
        "### Classifier\n",
        "Now that the feature extraction has ended, we can define our classifiers.\n",
        "As in the previous case, we start our analysis from the SVM,."
      ]
    },
    {
      "cell_type": "code",
      "execution_count": null,
      "metadata": {
        "id": "OjB26pJIgIOv"
      },
      "outputs": [],
      "source": [
        "# suppor vector machine (kernel svm)\n",
        "clf = svm.SVC(gamma=0.001, C=100, kernel='rbf', verbose=False, random_state=0)"
      ]
    },
    {
      "cell_type": "markdown",
      "metadata": {
        "id": "l-ythDtFLx3K"
      },
      "source": [
        "### Training\n",
        "Now we are ready for the training!\n",
        "With `sklearn` library is tremendously simple, we just need training data (`train_x` and the related labels `train_y`) and pass them to the classifier.\n",
        "\n",
        "**Tools**:\n",
        "-   `model.fit()`: fit the provided model with training data."
      ]
    },
    {
      "cell_type": "code",
      "execution_count": null,
      "metadata": {
        "id": "QfKancpNgJDr",
        "colab": {
          "base_uri": "https://localhost:8080/"
        },
        "outputId": "6a74871d-9d1c-4f11-f5e4-80241284e2d2"
      },
      "outputs": [
        {
          "output_type": "execute_result",
          "data": {
            "text/plain": [
              "SVC(C=100, gamma=0.001, random_state=0)"
            ]
          },
          "metadata": {},
          "execution_count": 13
        }
      ],
      "source": [
        "clf.fit(train_x, train_y)"
      ]
    },
    {
      "cell_type": "markdown",
      "metadata": {
        "id": "uxviII1Hlffv"
      },
      "source": [
        "### Validation"
      ]
    },
    {
      "cell_type": "code",
      "source": [
        "clf.score(val_x, val_y)"
      ],
      "metadata": {
        "id": "deZebhaNsAJT",
        "colab": {
          "base_uri": "https://localhost:8080/"
        },
        "outputId": "f6fca14d-af5d-4fb4-fb93-f90a45ae5f88"
      },
      "execution_count": null,
      "outputs": [
        {
          "output_type": "execute_result",
          "data": {
            "text/plain": [
              "0.5701333333333334"
            ]
          },
          "metadata": {},
          "execution_count": 14
        }
      ]
    },
    {
      "cell_type": "markdown",
      "metadata": {
        "id": "M4HUxo3sL1Np"
      },
      "source": [
        "### Testing\n",
        "Now we are reading to use our classifier! The trained classifier output the labels (as defined above) for the classification task.\n",
        "\n",
        "Tools:\n",
        "  - `model.predict()`: predict the class of the given data."
      ]
    },
    {
      "cell_type": "code",
      "execution_count": null,
      "metadata": {
        "id": "EcMai76lgLM3",
        "colab": {
          "base_uri": "https://localhost:8080/"
        },
        "outputId": "3982a6a4-8932-4faa-da87-293e663bf7e2"
      },
      "outputs": [
        {
          "output_type": "stream",
          "name": "stdout",
          "text": [
            "Predicted 10000 samples: [6 4 7 ... 3 5 0]\n"
          ]
        }
      ],
      "source": [
        "y_pred = clf.predict(test_x)\n",
        "print('Predicted {} samples: {}'.format(len(y_pred), y_pred))"
      ]
    },
    {
      "cell_type": "code",
      "execution_count": null,
      "metadata": {
        "id": "1m0kpDq4otSS",
        "colab": {
          "base_uri": "https://localhost:8080/"
        },
        "outputId": "adfcddfe-f159-44d2-ebd8-eda9188da4a3"
      },
      "outputs": [
        {
          "output_type": "stream",
          "name": "stdout",
          "text": [
            "(6, 2) (4, 3) (7, 9) (7, 3) (8, 0) (5, 3) (0, 0) (6, 6) (0, 0) (0, 5) (7, 7) (5, 2) (0, 8) (6, 6) (3, 3) (6, 4) (1, 0) (8, 9) (1, 1) (5, 4) (4, 7) (3, 7) (6, 6) (3, 3) (7, 7) (4, 4) (8, 9) (8, 9) (5, 5) (1, 1) (8, 8) (7, 7) (0, 1) (6, 0) (9, 9) (7, 5) (1, 1) (3, 4) (6, 6) (8, 0) (8, 8) (8, 8) (8, 9) (9, 9) (2, 2) (6, 6) (1, 1) (9, 7) (0, 0) (0, 1) (2, 2) (5, 4) (2, 4) (1, 7) (8, 9) (5, 3) (3, 3) (9, 9) (3, 5) (8, 8) (9, 9) (6, 6) (6, 6) (1, 2) (0, 0) (2, 2) (7, 0) (5, 5) (3, 4) (0, 0) (8, 4) (9, 8) (3, 5) (9, 9) (3, 5) (9, 9) (4, 4) (0, 0) (1, 1) (5, 5) (2, 3) (9, 9) (8, 8) (4, 2) (0, 0) (2, 2) (3, 3) (6, 6) (0, 0) (4, 4) (9, 9) (9, 9) (3, 5) (4, 4) (3, 5) (3, 3) (1, 1) (7, 4) (5, 7) (9, 9) (2, 2) (8, 8) (9, 9) (8, 8) (0, 0) (4, 7) (2, 0) (4, 7) (0, 0) (3, 2) (0, 2) (6, 6) (6, 6) (9, 8) (0, 0) (2, 2) (5, 5) (2, 2) (6, 6) (0, 0) (1, 1) (1, 1) (7, 9) (1, 1) (3, 3) (9, 9) (7, 7) (6, 6) (0, 0) (3, 3) (9, 9) (1, 1) (2, 2) (9, 9) (4, 2) (4, 8) (0, 2) (2, 5) (0, 3) (0, 2) (0, 2) (6, 6) (8, 0) (8, 4) (8, 8) (8, 9) (8, 8) (4, 3) (2, 2) (0, 0) (3, 3) (1, 1) (9, 9) (7, 5) (6, 7) (3, 4) (1, 4) (6, 4) (4, 4) (6, 6) (5, 5) (4, 4) (1, 1) (5, 5) (8, 8) (9, 9) (0, 0) (3, 5) (2, 3) (8, 0) (2, 7) (3, 5) (7, 3) (9, 9) (0, 2) (3, 5) (1, 1) (2, 2) (0, 0) (2, 6) (3, 3) (4, 4) (1, 1) (0, 7) (8, 8) (5, 5) (7, 1) (4, 4) (6, 6) (9, 3) (4, 7) (5, 7) (1, 9) (2, 2) (3, 8) (3, 2) (0, 0) (1, 1) (6, 7) (4, 6) (5, 7) (8, 0) (7, 7) (8, 8) (1, 3) (6, 6) (4, 7) (1, 9) (1, 1) (7, 2) (9, 8) (2, 8) (0, 2) (5, 5) (5, 3) (0, 0) (8, 8) (9, 9) (4, 5) (5, 5) (7, 7) (0, 0) (0, 2) (8, 0) (5, 5) (4, 4) (9, 9) (1, 1) (6, 2) (1, 1) (9, 9) (0, 3) (6, 3) (3, 1) (2, 6) (7, 4) (8, 8) (4, 0) (1, 1) (0, 0) (2, 9) (2, 4) (3, 3) (1, 1) (6, 3) (6, 6) (9, 9) (5, 7) (1, 1) (9, 9) (3, 7) (6, 4) (6, 4) (6, 6) (5, 5) (0, 3) (3, 2) (0, 2) (9, 3) (3, 3) (3, 6) (8, 6) (4, 4) (6, 6) (0, 0) (5, 2) (6, 6) (5, 9) (9, 9) (6, 6) (4, 4) (4, 7) (7, 7) (3, 6) (4, 7) (4, 2) (1, 1) (6, 2) (2, 2) (8, 8) (4, 6) (8, 8) (5, 4) (6, 6) (9, 9) (6, 6) (7, 7) (3, 3) (1, 1) (0, 0) (7, 7) (6, 6) (8, 8) (4, 3) (0, 0) (6, 6) (4, 7) (9, 9) (0, 8) (6, 6) (2, 2) (3, 3) (3, 5) (3, 5) (1, 1) (3, 6) (6, 6) (6, 6) (5, 5) (1, 1) (1, 1) (5, 3) (3, 1) (0, 0) (1, 1) (4, 1) (5, 7) (8, 9) (4, 7) (7, 7) (2, 4) (1, 1) (0, 0) (5, 7) (9, 9) (2, 5) (0, 0) (8, 0) (9, 9) (9, 9) (7, 4) (0, 3) (5, 5) (7, 7) (1, 8) (1, 1) (8, 8) (1, 9) (8, 8) (6, 3) (2, 2) (1, 9) (3, 2) (0, 0) (1, 1) (4, 4) (5, 3) (5, 3) (6, 6) (4, 7) (5, 2) (4, 4) (8, 9) (8, 8) (5, 5) (7, 0) (8, 8) (7, 7) (9, 9) (2, 0) (6, 6) (0, 4) (4, 4) (9, 9) (7, 3) (9, 9) (9, 9) (3, 5) (4, 2) (4, 4) (7, 4) (2, 1) (8, 8) (2, 2) (2, 2) (4, 2) (3, 3) (9, 9) (9, 9) (2, 7) (5, 5) (7, 7) (9, 0) (8, 8) (5, 7) (9, 1) (8, 8) (9, 9) (3, 6) (2, 2) (6, 9) (8, 8) (6, 6) (9, 9) (0, 0) (8, 8) (0, 0) (5, 9) (4, 4) (9, 9) (8, 9) (6, 6) (4, 4) (6, 6) (3, 7) (3, 3) (0, 0) (5, 5) (4, 4) (8, 8) (1, 1) (6, 3) (0, 0) (0, 0) (4, 8) (1, 1) (7, 7) (0, 0) (9, 1) (4, 7) (4, 4) (4, 4) (8, 8) (4, 4) (0, 0) (8, 8) (9, 1) (3, 5) (2, 0) (5, 5) (1, 1) (3, 6) (1, 6) (2, 4) (3, 5) (4, 7) (8, 8) (2, 6) (6, 6) (4, 0) (5, 4) (1, 1) (4, 7) (3, 2) (4, 7) (5, 1) (2, 4) (8, 8) (1, 1) (0, 1) (8, 8) (2, 2) (7, 9) (6, 2) (3, 3) (6, 6) (4, 4) (4, 4) (9, 9) (1, 1) (1, 1) (9, 9) (2, 3) (5, 3) (1, 9) (4, 6) (1, 1) (6, 0) (4, 3) (4, 2) (4, 6) (2, 5) (5, 2) (0, 0) (8, 8) (5, 7) (3, 8) (0, 0) (3, 7) (1, 1) (1, 9) (6, 6) (3, 4) (4, 7) (0, 0) (4, 2) (4, 2) (9, 9) (3, 3) (2, 4) (7, 2) (9, 9) (6, 6) (3, 9) (7, 3) (3, 3) (2, 3) (8, 8) (1, 1) (4, 7) (3, 2) (4, 4) (0, 4) (8, 3) (4, 4) (6, 6) (6, 6) (4, 4) (5, 5) (0, 0) (3, 2) (0, 2) (9, 9) (4, 7) (0, 9) (9, 9) (6, 6) (9, 9) (2, 2) (9, 9) (0, 0) (1, 9) (8, 1) (8, 0) (8, 8) (6, 3) (3, 5) (1, 1) (6, 6) (9, 1) (9, 9) (5, 3) (8, 8) (2, 2) (1, 1) (0, 0) (1, 1) (6, 2) (2, 6) (6, 1) (0, 1) (6, 3) (6, 6) (5, 4) (1, 8) (4, 6) (2, 9) (6, 6) (9, 9) (5, 4) (5, 6) (4, 4) (5, 5) (0, 4) (8, 7) (9, 3) (3, 7) (9, 9) (4, 1) (7, 7) (6, 6) (5, 4) (7, 5) (1, 7) (4, 4) (5, 5) (8, 8) (6, 4) (8, 8) (9, 1) (1, 8) (9, 9) (9, 9) (0, 0) (7, 7) (4, 2) (3, 3) (8, 2) (2, 2) (3, 4) (9, 1) (3, 2) (8, 8) (1, 8) (7, 7) (0, 0) (2, 8) (9, 9) (8, 8) (1, 1) (3, 5) (4, 2) (5, 5) (7, 4) (3, 3) (1, 1) (8, 2) (3, 3) (1, 1) (6, 8) (2, 4) (5, 5) (4, 4) (8, 8) (2, 0) (8, 8) (3, 9) (3, 3) (3, 3) (8, 8) (4, 3) (0, 0) (8, 0) (2, 2) (9, 9) (0, 0) (6, 5) (2, 2) (7, 7) (9, 1) (6, 6) (2, 2) (0, 0) (9, 9) (7, 7) (9, 9) (1, 1) (7, 7) (4, 7) (3, 3) (5, 5) (9, 9) (2, 4) (9, 7) (5, 5) (4, 4) (8, 8) (3, 3) (5, 5) (2, 2) (9, 9) (1, 1) (7, 4) (8, 8) (8, 8) (0, 9) (0, 8) (3, 3) (8, 1) (4, 4) (1, 8) (0, 0) (9, 9) (1, 3) (0, 0) (3, 3) (1, 1) (8, 8) (9, 9) (3, 3) (5, 5) (2, 2) (3, 3) (0, 0) (2, 4) (6, 6) (8, 8) (5, 5) (6, 3) (5, 5) (4, 4) (7, 7) (6, 6) (4, 4) (6, 6) (7, 7) (1, 1) (0, 0) (2, 2) (4, 6) (0, 0) (8, 8) (2, 6) (6, 4) (2, 8) (6, 5) (4, 9) (5, 5) (5, 3) (5, 7) (8, 8) (1, 1) (6, 6) (3, 5) (4, 3) (6, 5) (0, 0) (8, 0) (9, 8) (9, 9) (5, 6) (0, 8) (5, 9) (4, 3) (0, 5) (7, 7) (8, 4) (7, 7) (5, 3) (1, 1) (3, 5) (1, 1) (6, 6) (6, 6) (2, 3) (7, 2) (0, 9) (7, 7) (8, 8) (8, 8) (2, 2) (0, 0) (6, 6) (3, 3) (6, 3) (5, 3) (6, 6) (8, 2) (1, 1) (5, 5) (7, 5) (4, 4) (2, 4) (5, 2) (2, 4) (2, 2) (4, 7) (7, 3) (4, 4) (8, 8) (8, 7) (2, 5) (2, 2) (3, 3) (1, 1) (3, 3) (0, 4) (7, 7) (5, 5) (6, 6) (1, 1) (8, 8) (5, 3) (9, 9) (9, 9) (9, 9) (8, 8) (0, 0) (4, 7) (9, 9) (4, 0) (9, 7) (6, 6) (8, 9) (1, 1) (3, 5) (0, 8) (8, 3) (1, 1) (5, 5) (1, 1) (2, 2) (4, 4) (7, 7) (3, 3) (7, 7) (3, 5) (0, 8) (8, 3) (0, 8) (5, 2) (6, 2) (7, 7) (5, 6) (7, 2) (4, 7) (3, 2) (9, 9) (2, 3) (7, 5) (8, 4) (8, 8) (6, 3) (1, 1) (4, 2) (7, 6) (9, 5) (1, 1) (8, 8) (6, 3) (8, 1) (6, 4) (0, 0) (2, 7) (9, 5) (1, 1) (0, 0) (6, 6) (4, 3) (7, 3) (5, 6) (1, 1) (9, 9) (5, 2) (9, 9) (3, 3) (8, 0) (8, 1) (1, 1) (5, 3) (5, 3) (5, 5) (8, 8) (8, 6) (2, 2) (5, 6) (6, 3) (3, 3) (7, 7) (3, 4) (0, 0) (5, 5) (5, 0) (9, 9) (8, 0) (0, 8) (4, 2) (0, 3) (6, 6) (6, 8) (6, 6) (7, 7) (2, 2) (6, 6) (4, 4) (3, 3) (9, 9) (2, 4) (2, 0) (4, 4) (0, 9) (0, 0) (6, 5) (1, 1) (2, 4) (9, 9) (6, 6) (5, 5) (3, 3) (4, 4) (3, 5) (6, 9) (3, 5) (2, 5) (2, 6) (7, 7) (7, 7) (5, 7) (3, 3) (3, 5) (7, 0) (9, 0) (0, 2) (8, 8) (3, 2) (6, 6) (2, 2) (2, 2) (0, 0) (9, 9) (4, 4) (3, 3) (9, 9) (5, 5) (3, 3) (1, 1) (4, 4) (3, 3) (3, 5) (5, 3) (7, 4) (2, 2) (4, 2) (0, 0) (9, 9) (8, 8) (7, 7) (9, 8) (1, 9) (3, 3) (8, 0) (3, 6) (5, 5) (3, 3) (7, 4) (6, 6) (0, 1) (0, 4) (9, 9) (7, 7) (8, 8) (9, 9) (2, 4) (4, 3) (4, 6) (9, 9) (8, 0) (2, 4) (1, 1) (4, 4) (8, 8) (5, 2) (3, 3) (9, 7) (8, 8) (0, 9) (1, 1) (1, 1) (1, 6) (9, 7) (8, 8) (6, 6) (9, 9) (5, 5) (6, 6) (8, 8) (3, 3) (8, 8) (2, 2) (1, 9) (0, 2) (6, 6) (4, 9) (6, 6) (8, 8) (2, 2) (1, 8) (4, 4) (5, 3) (3, 2) (1, 1) (1, 1) (0, 0) (0, 0) (8, 8) (4, 5) (9, 9) (0, 5) (0, 0) (0, 3) (9, 9) (5, 5) (3, 5) (4, 4) (9, 9) (9, 9) (2, 2) (5, 3) (7, 7) (1, 1) (1, 1) (6, 4) (8, 8) (3, 5) (9, 2) (4, 5) (9, 9) (2, 3) (4, 2) (8, 8) (3, 3) (5, 7) (8, 8) (4, 5) (3, 8) (8, 8) (3, 1) (0, 8) (1, 1) (0, 9) (8, 0) (5, 3) (6, 5) (4, 6) (4, 7) (2, 2) (4, 4) (3, 3) (4, 9) (0, 0) (5, 5) (6, 6) (4, 3) (8, 8) (3, 1) (4, 4) (2, 2) (2, 2) (5, 6) (2, 5) (0, 0) (5, 4) (9, 9) (0, 2) (7, 8) (7, 7) (3, 3) (1, 1) (6, 6) (1, 8) (6, 6) (4, 4) (1, 1) (8, 0) (1, 2) (3, 2) (5, 3) (7, 7) (6, 5) (2, 9) (3, 5) (0, 3) (6, 3) (7, 2) (6, 6) (1, 1) (6, 6) (8, 8) (6, 0) (4, 4) (7, 7) (9, 9) (6, 5) (1, 1) (6, 3) (2, 2) (9, 9) (4, 4) (3, 4) (6, 2) (0, 0) (1, 8) (4, 4) (6, 3) (4, 4) (6, 6) (5, 5) (8, 8) (6, 6) (5, 3) (0, 6) (6, 6) (7, 7) (7, 7) (3, 3) (4, 4) (4, 9) (8, 4) (3, 3) (1, 1) (7, 7) (4, 4) (6, 4) (9, 9) (0, 0) (3, 2) (4, 3) (1, 1) (8, 8) (0, 0) (4, 4) (4, 4) (6, 6) (7, 7) (6, 6) (8, 8) (3, 5) (4, 4) (3, 6) (0, 2) (1, 1) (5, 5) (4, 4) (0, 0) (3, 2) (7, 7) (7, 7) (0, 0) (3, 2) (1, 1) (1, 8) (6, 3) (6, 6) (6, 6) (6, 6) (0, 8) (2, 2) (0, 0) (3, 8) (1, 1) (3, 6) (0, 8) (2, 8) (7, 7) (8, 0) (0, 0) (1, 1) (5, 7) (9, 9) (4, 2) (8, 8) (9, 9) (9, 9) (0, 0) (1, 1) (1, 1) (0, 0) (8, 8) (5, 6) (1, 1) (7, 2) (6, 4) (8, 6) (0, 0) (4, 4) (4, 4) (5, 3) (1, 1) (3, 5) (9, 9) (0, 0) (3, 3) (9, 9) (9, 9) (9, 9) (6, 6) (8, 8) (3, 5) (8, 1) (3, 7) (2, 2) (2, 7) (8, 8) (2, 2) (0, 3) (6, 6) (9, 0) (7, 7) (0, 2) (0, 0) (0, 0) (2, 0) (5, 5) (3, 3) (8, 1) (8, 8) (2, 2) (9, 8) (6, 6) (2, 2) (4, 7) (7, 7) (8, 6) (4, 0) (9, 9) (8, 8) (0, 4) (3, 3) (0, 1) (7, 7) (6, 4) (4, 4) (3, 3) (2, 3) (2, 3) (2, 4) (2, 2) (2, 6) (8, 3) (6, 6) (3, 3) (4, 2) (8, 0) (8, 0) (2, 7) (7, 8) (5, 3) (1, 1) (8, 8) (8, 9) (9, 9) (8, 1) (2, 3) (6, 6) (0, 0) (5, 7) (4, 6) (1, 1) (1, 0) (5, 5) (5, 6) (7, 7) (6, 4) (5, 6) (5, 5) (8, 6) (5, 3) (4, 4) (4, 2) (7, 5) (8, 0) (2, 2) (0, 0) (5, 5) (5, 5) (7, 2) (1, 4) (4, 4) (0, 0) (3, 5) (2, 4) (4, 3) (1, 1) (2, 2) (4, 2) (4, 3) (1, 1) (2, 2) (0, 0) (4, 4) (9, 9) (5, 5) (4, 4) (1, 1) (7, 7) (1, 5) (1, 1) (7, 7) (5, 3) (4, 7) (4, 0) (1, 1) (2, 4) (5, 3) (6, 5) (4, 4) (4, 4) (9, 9) (5, 7) (0, 0) (5, 4) (8, 4) (2, 9) (7, 7) (3, 0) (0, 0) (2, 8) (4, 2) (5, 5) (6, 6) (8, 8) (0, 0) (5, 2) (8, 8) (0, 8) (1, 1) (7, 7) (9, 9) (6, 6) (7, 2) (0, 5) (2, 5) (7, 7) (2, 2) (8, 8) (0, 0) (2, 2) (3, 3) (1, 1) (4, 6) (8, 8) (0, 0) (2, 4) (3, 5) (8, 8) (2, 2) (6, 6) (7, 2) (4, 5) (8, 9) (5, 5) (6, 6) (7, 7) (4, 4) (6, 6) (2, 8) (3, 5) (9, 9) (3, 0) (1, 1) (1, 9) (7, 7) (7, 7) (7, 7) (2, 2) (3, 9) (4, 7) (8, 8) (7, 5) (5, 5) (7, 4) (6, 4) (0, 8) (1, 3) (4, 2) (5, 3) (3, 7) (8, 8) (4, 4) (2, 4) (8, 2) (7, 7) (4, 2) (0, 3) (0, 6) (1, 1) (6, 4) (7, 7) (8, 2) (8, 8) (8, 8) (0, 0) (4, 6) (1, 9) (0, 0) (6, 8) (0, 0) (5, 5) (3, 5) (0, 0) (1, 1) (2, 3) (8, 8) (1, 1) (0, 0) (9, 9) (6, 4) (1, 1) (4, 8) (6, 6) (3, 3) (3, 7) (0, 0) (5, 8) (4, 8) (5, 5) (5, 6) (0, 0) (8, 8) (1, 1) (8, 0) (8, 0) (3, 5) (7, 8) (6, 6) (3, 3) (5, 5) (5, 7) (1, 8) (2, 2) (8, 8) (1, 1) (1, 1) (5, 2) (4, 4) (1, 1) (9, 9) (5, 8) (7, 4) (4, 4) (5, 5) (5, 5) (0, 0) (2, 8) (0, 3) (3, 3) (3, 5) (6, 5) (5, 2) (7, 7) (0, 0) (7, 5) (3, 3) (0, 0) (1, 1) (2, 2) (8, 1) (6, 6) (6, 6) (2, 2) (7, 7) (3, 3) (7, 4) (6, 6) (2, 0) (6, 6) (5, 3) (4, 6) (6, 6) (2, 2) (9, 9) (7, 7) (6, 6) (8, 8) (2, 2) (8, 8) (5, 2) (4, 7) (9, 9) (3, 6) (9, 9) (9, 9) (0, 0) (6, 6) (2, 2) (6, 5) (7, 3) (5, 3) (7, 7) (6, 6) (2, 7) (1, 5) (2, 0) (2, 2) (8, 8) (3, 2) (7, 7) (9, 9) (2, 7) (6, 9) (7, 4) (5, 9) (6, 6) (0, 3) (5, 2) (9, 9) (6, 6) (0, 2) (0, 0) (4, 2) (8, 3) (7, 2) (1, 1) (0, 0) (1, 9) (0, 0) (9, 9) (2, 0) (5, 4) (6, 6) (9, 9) (4, 0) (0, 1) (4, 4) (9, 9) (1, 1) (5, 2) (7, 7) (2, 5) (8, 8) (4, 4) (3, 3) (7, 7) (9, 9) (3, 4) (2, 0) (4, 1) (9, 9) (2, 2) (8, 0) (6, 6) (0, 8) (8, 8) (3, 3) (5, 5) (6, 6) (0, 0) (9, 8) (6, 6) (1, 1) (6, 6) (1, 1) (0, 0) (0, 0) (1, 1) (4, 0) (4, 2) (1, 1) (6, 4) (3, 3) (4, 5) (1, 1) (5, 5) (5, 3) (3, 5) (2, 4) (8, 3) (7, 7) (4, 7) (2, 2) (0, 7) (7, 3) (9, 9) (3, 3) (4, 4) (8, 0) (1, 1) (1, 1) (8, 8) (8, 8) (3, 3) (0, 0) (1, 6) (2, 3) (5, 4) (3, 0) (2, 6) (5, 5) (1, 9) (8, 3) (7, 7) (9, 9) (9, 9) (5, 3) (7, 7) (2, 2) (9, 9) (1, 8) (2, 6) (6, 6) (9, 1) (6, 7) (6, 6) (2, 2) (7, 5) (9, 2) (8, 8) (5, 5) (2, 5) (3, 2) (2, 3) (0, 0) (2, 2) (6, 6) (4, 4) (7, 7) (1, 1) (7, 7) (0, 0) (8, 2) (6, 6) (5, 5) (3, 3) (4, 2) (7, 4) (5, 5) (0, 0) (6, 5) (8, 8) (4, 5) (8, 8) (6, 6) (9, 7) (3, 3) (5, 7) (7, 7) (4, 4) (7, 7) (4, 2) (1, 1) (5, 0) (2, 0) (9, 9) (9, 9) (0, 0) (1, 9) (8, 4) (5, 5) (5, 8) (3, 5) (7, 5) (5, 3) (1, 1) (5, 2) (4, 4) (7, 7) (0, 8) (0, 0) (7, 7) (9, 0) (3, 4) (4, 4) (7, 4) (7, 5) (9, 9) (6, 6) (8, 8) (8, 1) (3, 5) (3, 3) (9, 1) (1, 1) (6, 6) (5, 3) (2, 5) (0, 0) (2, 5) (9, 9) (3, 3) (6, 6) (1, 1) (2, 0) (8, 8) (3, 3) (0, 8) (0, 8) (5, 4) (4, 5) (3, 3) (9, 1) (2, 2) (0, 0) (2, 3) (5, 5) (7, 7) (2, 2) (4, 2) (7, 7) (3, 6) (8, 9) (4, 4) (5, 2) (2, 0) (5, 5) (1, 1) (7, 7) (1, 1) (4, 2) (8, 8) (7, 7) (1, 1) (0, 4) (8, 8) (2, 2) (3, 5) (2, 4) (3, 4) (3, 4) (5, 7) (9, 3) (8, 8) (8, 8) (5, 2) (4, 7) (7, 7) (3, 5) (9, 9) (3, 8) (4, 4) (3, 2) (7, 7) (4, 4) (4, 6) (9, 9) (4, 4) (7, 7) (8, 0) (4, 4) (0, 0) (1, 1) (2, 4) (1, 9) (0, 8) (4, 4) (2, 4) (0, 0) (4, 4) (4, 2) (8, 4) (8, 3) (9, 8) (0, 0) (0, 0) (7, 7) (9, 9) (2, 3) (1, 8) (2, 2) (6, 0) (1, 1) (3, 3) (0, 4) (8, 8) (5, 5) (2, 5) (4, 4) (8, 1) (6, 3) (2, 5) (4, 3) (8, 8) (4, 2) (7, 7) (3, 0) (1, 1) (4, 2) (6, 3) (8, 8) (0, 0) (9, 9) (5, 3) (5, 2) (4, 7) (9, 9) (1, 1) (2, 1) (2, 7) (4, 0) (0, 0) (0, 0) (3, 5) (3, 2) (5, 4) (1, 5) (4, 4) (2, 2) (3, 5) (1, 9) (9, 9) (6, 6) (3, 3) (2, 2) (8, 8) (5, 5) (0, 0) (3, 5) (9, 9) (0, 0) (4, 5) (8, 8) (1, 8) (8, 0) (6, 1) (7, 7) (1, 1) (2, 5) (4, 4) (5, 5) (6, 6) (3, 3) (4, 4) (8, 8) (4, 6) (8, 0) (0, 0) (3, 2) (6, 6) (4, 2) (1, 1) (2, 2) (0, 1) (7, 8) (4, 6) (6, 6) (8, 8) (4, 4) (2, 5) (4, 4) (1, 3) (6, 2) (0, 8) (8, 8) (4, 7) (8, 2) (1, 9) (5, 9) (4, 4) (7, 4) (5, 5) (6, 2) (9, 9) (3, 3) (0, 0) (6, 4) (6, 6) (8, 8) (5, 2) (0, 0) (6, 6) (1, 8) (1, 1) (8, 8) (1, 8) (5, 3) (7, 2) (7, 4) (4, 4) (8, 8) (6, 6) (6, 6) (1, 1) (4, 4) (1, 1) (1, 1) (9, 9) (8, 8) (4, 3) (4, 2) (2, 2) (5, 5) (0, 0) (0, 0) (0, 2) (6, 6) (4, 4) (6, 6) (0, 0) (9, 9) (2, 5) (5, 2) (1, 1) (1, 1) (4, 4) (4, 3) (3, 3) (0, 0) (1, 1) (5, 5) (6, 6) (2, 2) (8, 7) (6, 4) (4, 3) (6, 6) (0, 0) (5, 2) (2, 7) (1, 1) (3, 2) (1, 0) (9, 9) (9, 9) (3, 7) (1, 1) (8, 1) (4, 4) (0, 9) (2, 2) (3, 3) (9, 9) (0, 0) (4, 5) (7, 7) (2, 7) (1, 1) (5, 5) (7, 5) (6, 7) (9, 9) (9, 3) (6, 6) (8, 8) (2, 3) (9, 7) (2, 2) (5, 7) (9, 9) (9, 9) (1, 1) (0, 0) (1, 8) (7, 7) (9, 9) (3, 4) (2, 2) (3, 3) (4, 4) (8, 9) (5, 1) (2, 2) (0, 0) (0, 0) (8, 2) (6, 2) (2, 2) (1, 1) (6, 4) (4, 8) (8, 5) (3, 2) (2, 0) (7, 7) (6, 6) (6, 1) (0, 0) (6, 2) (5, 9) (9, 9) (3, 1) (8, 2) (2, 5) (5, 2) (2, 2) (8, 8) (7, 7) (2, 9) (4, 4) (0, 0) (1, 1) (9, 9) (4, 4) (6, 6) (1, 1) (9, 9) (3, 3) (9, 9) (3, 6) (9, 3) (8, 8) (5, 5) (8, 0) (8, 9) (5, 5) (0, 0) (3, 3) (5, 5) (9, 9) (2, 1) (8, 5) (5, 2) (3, 3) (2, 7) (3, 3) (1, 1) (0, 0) (9, 9) (5, 3) (0, 0) (4, 4) (1, 1) (2, 0) (4, 6) (4, 7) (7, 7) (0, 4) (8, 8) (4, 6) (5, 4) (2, 3) (8, 9) (0, 0) (2, 5) (9, 9) (9, 1) (9, 0) (6, 6) (8, 8) (1, 1) (2, 5) (6, 3) (8, 2) (6, 6) (9, 9) (1, 8) (0, 0) (8, 8) (0, 0) (1, 1) (2, 3) (6, 6) (8, 8) (6, 3) (1, 1) (6, 6) (4, 7) (3, 7) (9, 9) (7, 7) (6, 3) (8, 8) (4, 4) (9, 1) (3, 5) (3, 5) (3, 8) (0, 0) (3, 5) (0, 3) (9, 9) (4, 5) (6, 6) (0, 6) (8, 9) (2, 2) (1, 8) (1, 1) (3, 5) (4, 4) (2, 7) (6, 6) (1, 1) (3, 3) (2, 1) (5, 5) (8, 8) (9, 9) (3, 3) (6, 3) (6, 4) (6, 4) (8, 0) (2, 6) (8, 8) (5, 6) (0, 8) (7, 4) (0, 0) (8, 8) (4, 5) (6, 2) (5, 5) (4, 6) (0, 0) (5, 5) (6, 6) (5, 4) (8, 8) (3, 1) (3, 6) (2, 8) (6, 6) (4, 4) (0, 2) (8, 0) (7, 7) (3, 5) (8, 7) (3, 6) (7, 7) (9, 9) (9, 9) (7, 7) (2, 6) (4, 4) (3, 5) (7, 7) (8, 8) (0, 0) (4, 9) (2, 4) (3, 3) (3, 4) (7, 7) (6, 4) (8, 0) (4, 3) (8, 8) (9, 9) (7, 4) (6, 6) (2, 2) (9, 6) (8, 1) (7, 7) (7, 8) (2, 2) (8, 8) (0, 1) (9, 8) (3, 2) (2, 7) (1, 9) (4, 2) (6, 2) (4, 7) (8, 8) (9, 9) (0, 0) (1, 8) (2, 2) (8, 8) (0, 2) (7, 7) (7, 7) (0, 0) (3, 5) (6, 6) (0, 0) (0, 6) (4, 7) (0, 0) (6, 6) (8, 8) (5, 9) (5, 5) (0, 4) (4, 3) (1, 1) (7, 7) (6, 6) (6, 6) (3, 5) (1, 1) (9, 6) (2, 2) (3, 7) (9, 6) (8, 8) (6, 6) (4, 6) (8, 8) (0, 0) (4, 4) (8, 8) (8, 8) (3, 3) (3, 3) (9, 9) (8, 8) (4, 8) (0, 2) (0, 2) (9, 9) (1, 1) (9, 9) (7, 7) (1, 9) (9, 9) (2, 4) (6, 6) (8, 8) (5, 5) (9, 9) (4, 4) (3, 3) (4, 4) (9, 9) (6, 3) (0, 8) (0, 8) (8, 6) (1, 1) (9, 9) (3, 3) (6, 6) (6, 6) (0, 2) (9, 9) (2, 3) (8, 8) (2, 8) (0, 8) (5, 2) (2, 9) (4, 0) (8, 1) (0, 6) (9, 0) (2, 2) (0, 2) (1, 1) (7, 7) (1, 1) (2, 3) (2, 3) (9, 9) (6, 8) (8, 0) (9, 9) (6, 6) (1, 8) (3, 6) (3, 5) (7, 7) (5, 5) (5, 5) (9, 9) (4, 4) (1, 1) (8, 1) (3, 7) (6, 6) (5, 5) (5, 2) (8, 8) (0, 0) (5, 7) (9, 9) (5, 5) (5, 5) (8, 8) (8, 8) (9, 9) (3, 2) (4, 4) (0, 0) (2, 4) (5, 5) (4, 4) (6, 2) (8, 8) (3, 3) (7, 7) (7, 7) (9, 9) (2, 2) (1, 1) (5, 5) (2, 2) (1, 1) (7, 7) (4, 2) (8, 8) (4, 4) (1, 1) (1, 0) (8, 8) (1, 1) (2, 7) (5, 5) (6, 6) (3, 2) (7, 7) (8, 8) (2, 2) (3, 2) (0, 0) (5, 5) (0, 0) (8, 8) (3, 3) (4, 2) (0, 0) (8, 1) (5, 5) (7, 4) (2, 6) (2, 7) (2, 2) (7, 9) (1, 1) (3, 4) (2, 8) (8, 6) (6, 4) (6, 6) (4, 7) (2, 2) (1, 1) (3, 3) (2, 7) (4, 4) (9, 8) (3, 3) (6, 6) (7, 4) (6, 3) (1, 1) (0, 8) (1, 1) (8, 9) (1, 8) (1, 1) (6, 4) (3, 5) (0, 0) (7, 8) (2, 2) (9, 9) (7, 7) (7, 7) (5, 5) (4, 3) (4, 2) (4, 2) (5, 5) (1, 3) (4, 4) (0, 0) (0, 0) (9, 9) (7, 7) (6, 6) (0, 0) (8, 8) (6, 6) (1, 1) (3, 4) (5, 5) (0, 0) (4, 4) (5, 9) (8, 8) (8, 8) (1, 1) (5, 5) (0, 0) (7, 7) (8, 4) (4, 4) (7, 7) (0, 0) (1, 9) (7, 7) (9, 9) (5, 3) (6, 0) (4, 4) (7, 7) (6, 6) (8, 8) (2, 0) (0, 8) (0, 2) (0, 0) (3, 3) (4, 4) (1, 1) (0, 2) (5, 5) (4, 4) (0, 2) (0, 2) (7, 7) (7, 3) (3, 4) (1, 1) (7, 7) (4, 3) (8, 1) (5, 1) (2, 2) (0, 0) (0, 0) (9, 9) (4, 7) (6, 6) (6, 6) (6, 6) (1, 1) (7, 7) (3, 5) (4, 3) (4, 4) (8, 8) (8, 5) (7, 2) (1, 8) (1, 1) (3, 3) (1, 1) (7, 7) (6, 2) (9, 9) (0, 2) (9, 9) (1, 1) (9, 9) (2, 2) (8, 0) (1, 3) (8, 8) (9, 9) (6, 4) (5, 5) (9, 9) (4, 4) (7, 7) (4, 1) (2, 2) (6, 6) (0, 0) (3, 5) (0, 2) (5, 5) (4, 4) (0, 0) (6, 4) (5, 5) (3, 5) (8, 8) (6, 6) (7, 4) (5, 3) (0, 0) (3, 3) (1, 1) (4, 5) (0, 4) (2, 5) (3, 5) (2, 7) (7, 7) (5, 5) (6, 6) (6, 4) (8, 8) (2, 8) (4, 4) (0, 0) (5, 9) (7, 7) (2, 4) (6, 2) (0, 0) (1, 1) (0, 2) (3, 3) (5, 3) (4, 4) (0, 0) (3, 6) (7, 7) (5, 5) (1, 8) (0, 0) (9, 1) (9, 9) (7, 7) (3, 3) (4, 3) (9, 9) (3, 3) (6, 1) (1, 1) (3, 6) (7, 5) (5, 7) (1, 1) (4, 3) (8, 8) (3, 3) (6, 2) (2, 2) (8, 8) (6, 3) (4, 4) (8, 0) (1, 1) (9, 9) (2, 8) (3, 3) (4, 4) (2, 2) (8, 8) (8, 8) (6, 4) (3, 3) (3, 5) (9, 9) (0, 0) (5, 3) (3, 0) (9, 9) (6, 6) (7, 7) (1, 1) (9, 9) (4, 4) (0, 8) (2, 0) (8, 8) (7, 7) (1, 1) (5, 7) (5, 5) (2, 2) (9, 7) (7, 7) (0, 3) (6, 6) (4, 3) (3, 7) (3, 5) (7, 7) (1, 1) (6, 6) (5, 2) (5, 5) (8, 8) (1, 1) (7, 5) (7, 7) (1, 1) (6, 4) (7, 7) (1, 1) (5, 5) (3, 3) (3, 7) (1, 1) (3, 3) (1, 1) (3, 4) (3, 2) (9, 9) (9, 9) (2, 2) (5, 3) (0, 0) (0, 8) (7, 4) (0, 0) (8, 1) (7, 7) (5, 3) (7, 7) (5, 4) (7, 2) (5, 4) (8, 1) (8, 0) (8, 0) (5, 5) (1, 1) (2, 2) (7, 7) (7, 4) (3, 5) (7, 3) (2, 4) (3, 5) (5, 4) (3, 5) (4, 8) (0, 0) (2, 4) (4, 4) (4, 4) (5, 3) (6, 6) (4, 2) (4, 7) (4, 4) (6, 6) (2, 5) (9, 9) (4, 0) (1, 8) (2, 2) (5, 5) (3, 5) (9, 7) (3, 3) (6, 6) (1, 8) (3, 3) (8, 8) (3, 5) (2, 3) (3, 6) (4, 4) (4, 2) (9, 9) (9, 9) (5, 5) (4, 5) (9, 9) (8, 8) (9, 9) (1, 1) (1, 1) (1, 1) (4, 4) (0, 2) (1, 1) (0, 0) (2, 5) (4, 5) (0, 0) (3, 8) (4, 3) (8, 8) (0, 0) (7, 7) (4, 4) (9, 9) (6, 3) (5, 7) (1, 1) (3, 2) (1, 1) (8, 8) (7, 4) (8, 8) (5, 5) (6, 6) (5, 3) (1, 1) (4, 4) (5, 5) (0, 8) (0, 8) (2, 2) (4, 4) (7, 0) (0, 3) (4, 0) (3, 5) (7, 7) (2, 2) (1, 1) (3, 2) (8, 0) (6, 6) (2, 7) (5, 5) (8, 9) (0, 0) (8, 8) (5, 5) (9, 9) (1, 8) (1, 1) (7, 7) (4, 3) (6, 7) (3, 5) (8, 0) (6, 6) (1, 1) (9, 9) (1, 1) (7, 8) (7, 7) (5, 5) (5, 5) (1, 1) (9, 9) (7, 7) (6, 6) (7, 7) (8, 0) (9, 9) (9, 3) (2, 3) (2, 6) (1, 9) (7, 7) (1, 3) (7, 7) (4, 4) (1, 4) (9, 9) (3, 3) (6, 5) (1, 1) (3, 1) (2, 5) (9, 9) (4, 3) (2, 4) (5, 5) (9, 9) (0, 0) (2, 0) (9, 3) (7, 7) (5, 5) (4, 2) (0, 0) (7, 7) (7, 7) (8, 7) (2, 4) (8, 9) (2, 6) (1, 8) (0, 0) (2, 2) (2, 4) (9, 9) (4, 4) (7, 7) (7, 7) (2, 2) (9, 9) (4, 4) (4, 4) (5, 2) (2, 4) (7, 7) (5, 5) (5, 2) (7, 7) (8, 8) (8, 5) (5, 3) (3, 3) (3, 3) (4, 2) (7, 4) (9, 9) (9, 9) (6, 4) (5, 5) (4, 4) (8, 0) (5, 5) (5, 3) (6, 1) (3, 3) (1, 1) (9, 4) (3, 9) (0, 3) (9, 9) (2, 2) (5, 4) (9, 9) (9, 8) (5, 5) (2, 2) (7, 7) (0, 5) (1, 1) (1, 1) (3, 2) (4, 6) (8, 0) (7, 7) (2, 2) (1, 1) (6, 6) (7, 7) (4, 4) (9, 3) (5, 5) (8, 0) (0, 2) (3, 3) (3, 3) (5, 2) (6, 6) (2, 2) (5, 2) (3, 5) (9, 9) (1, 1) (9, 9) (8, 8) (8, 8) (8, 8) (9, 9) (5, 9) (2, 4) (5, 3) (8, 8) (1, 1) (8, 8) (8, 8) (4, 4) (5, 7) (4, 3) (1, 9) (2, 2) (9, 0) (4, 4) (1, 9) (8, 8) (4, 4) (4, 3) (0, 9) (9, 9) (3, 3) (0, 2) (0, 4) (3, 3) (4, 7) (6, 6) (1, 1) (5, 3) (0, 0) (4, 4) (0, 0) (6, 2) (8, 8) (8, 3) (0, 5) (4, 4) (3, 4) (6, 6) (6, 6) (1, 1) (7, 7) (8, 8) (2, 7) (2, 8) (3, 5) (0, 0) (4, 4) (3, 5) (4, 3) (3, 3) (4, 0) (3, 3) (6, 6) (6, 6) (4, 4) (0, 0) (5, 8) (0, 0) (2, 4) (3, 3) (2, 0) (2, 6) (6, 6) (0, 0) (5, 3) (1, 1) (8, 8) (3, 3) (9, 9) (0, 0) (9, 9) (5, 2) (0, 5) (6, 6) (5, 3) (0, 0) (9, 9) (2, 2) (2, 3) (7, 9) (7, 4) (4, 2) (9, 9) (2, 6) (7, 0) (9, 8) (8, 2) (7, 9) (6, 3) (1, 1) (4, 4) (6, 7) (9, 9) (3, 2) (6, 3) (5, 2) (9, 9) (0, 8) (6, 2) (0, 0) (4, 4) (6, 6) (6, 6) (6, 6) (4, 4) (1, 3) (8, 8) (5, 5) (5, 5) (8, 8) (0, 3) (0, 2) (6, 2) (6, 4) (7, 5) (1, 1) (5, 2) (2, 2) (2, 0) (1, 1) (1, 2) (6, 6) (5, 5) (9, 9) (0, 0) (1, 9) (7, 7) (1, 8) (9, 9) (7, 5) (3, 2) (5, 5) (1, 1) (5, 5) (5, 5) (8, 0) (8, 8) (8, 5) (5, 5) (6, 6) (3, 7) (0, 0) (0, 7) (4, 4) (2, 2) (9, 8) (8, 8) (4, 6) (8, 8) (0, 4) (5, 5) (0, 6) (6, 2) (9, 9) (4, 4) (5, 5) (0, 0) (2, 5) (6, 6) (4, 8) (5, 5) (0, 5) (3, 6) (1, 1) (6, 6) (1, 1) (2, 3) (2, 8) (1, 1) (6, 2) (1, 1) (1, 1) (9, 9) (3, 5) (5, 2) (6, 7) (8, 1) (2, 2) (1, 4) (8, 8) (8, 1) (4, 4) (6, 6) (4, 5) (0, 3) (9, 9) (7, 7) (3, 3) (4, 4) (8, 4) (3, 3) (9, 0) (6, 5) (2, 3) (3, 3) (8, 8) (8, 8) (6, 6) (9, 9) (2, 4) (0, 2) (2, 2) (9, 9) (8, 8) (0, 0) (5, 5) (6, 6) (0, 0) (2, 4) (0, 0) (9, 9) (8, 8) (5, 5) (2, 2) (9, 9) (8, 9) (0, 0) (8, 8) (3, 2) (4, 3) (2, 0) (2, 2) (5, 6) (1, 1) (1, 1) (1, 1) (8, 8) (8, 8) (8, 1) (9, 9) (2, 0) (5, 5) (9, 9) (3, 5) (3, 5) (2, 5) (5, 5) (1, 1) (2, 7) (3, 3) (2, 5) (3, 3) (2, 3) (1, 1) (4, 7) (5, 2) (7, 7) (2, 9) (7, 7) (4, 4) (2, 4) (8, 8) (2, 2) (9, 9) (1, 1) (5, 3) (9, 4) (1, 1) (4, 1) (4, 4) (1, 1) (4, 4) (8, 8) (4, 6) (3, 2) (8, 1) (1, 1) (2, 2) (8, 8) (1, 1) (4, 3) (9, 9) (1, 1) (9, 9) (2, 2) (8, 8) (0, 0) (9, 9) (5, 3) (4, 6) (4, 4) (0, 0) (1, 9) (6, 6) (1, 9) (5, 6) (8, 8) (5, 8) (3, 3) (8, 2) (4, 4) (8, 8) (6, 6) (5, 2) (2, 2) (0, 0) (9, 9) (7, 7) (0, 9) (0, 3) (7, 4) (8, 8) (9, 9) (7, 5) (4, 2) (1, 1) (3, 4) (3, 0) (5, 3) (2, 2) (8, 8) (5, 5) (4, 4) (5, 5) (8, 8) (7, 7) (3, 7) (7, 7) (5, 5) (5, 2) (8, 2) (7, 7) (3, 6) (9, 9) (3, 2) (4, 2) (6, 5) (3, 6) (0, 2) (8, 0) (7, 7) (3, 3) (7, 5) (0, 0) (1, 1) (7, 7) (9, 9) (9, 9) (5, 3) (5, 3) (7, 7) (0, 0) (1, 1) (8, 8) (4, 2) (6, 6) (8, 4) (8, 9) (0, 8) (9, 9) (1, 9) (0, 0) (1, 1) (1, 1) (6, 1) (2, 5) (2, 4) (1, 1) (7, 7) (2, 3) (5, 5) (1, 1) (5, 5) (8, 7) (9, 9) (6, 6) (6, 6) (9, 9) (0, 0) (4, 2) (8, 8) (2, 2) (9, 9) (6, 6) (0, 0) (5, 5) (5, 0) (8, 8) (5, 6) (7, 7) (3, 5) (9, 7) (4, 4) (1, 1) (0, 0) (2, 2) (0, 0) (7, 7) (1, 1) (9, 9) (2, 5) (9, 9) (0, 0) (4, 2) (2, 2) (6, 5) (0, 0) (5, 5) (3, 3) (3, 5) (2, 0) (3, 6) (0, 1) (7, 3) (7, 9) (7, 5) (0, 2) (0, 0) (6, 6) (8, 3) (2, 2) (2, 2) (0, 0) (0, 8) (3, 8) (8, 8) (4, 4) (2, 2) (3, 3) (5, 3) (0, 2) (9, 8) (1, 9) (9, 9) (8, 9) (7, 7) (1, 1) (9, 9) (3, 3) (1, 1) (8, 8) (5, 7) (4, 7) (4, 2) (0, 6) (1, 1) (9, 9) (2, 5) (9, 9) (9, 9) (9, 9) (6, 6) (9, 9) (6, 6) (1, 1) (9, 9) (8, 8) (8, 7) (1, 9) (4, 3) (5, 5) (4, 5) (5, 5) (0, 2) (4, 8) (0, 0) (4, 4) (3, 3) (8, 0) (0, 0) (6, 6) (6, 6) (3, 4) (7, 1) (7, 4) (6, 6) (2, 8) (0, 0) (3, 3) (2, 2) (7, 4) (4, 6) (5, 2) (3, 5) (8, 1) (5, 5) (8, 8) (2, 2) (7, 7) (1, 1) (8, 8) (4, 4) (5, 5) (7, 7) (4, 4) (4, 4) (4, 4) (7, 7) (0, 8) (8, 8) (3, 5) (0, 0) (0, 0) (6, 4) (9, 9) (6, 9) (6, 5) (8, 3) (1, 1) (7, 7) (1, 1) (3, 5) (5, 5) (1, 1) (0, 0) (3, 5) (4, 2) (4, 4) (8, 0) (5, 3) (6, 6) (0, 0) (5, 5) (5, 3) (0, 0) (5, 5) (6, 6) (1, 1) (0, 4) (6, 6) (5, 3) (2, 4) (6, 2) (9, 5) (4, 1) (8, 3) (4, 0) (3, 3) (9, 9) (5, 3) (3, 5) (5, 4) (3, 1) (6, 6) (0, 0) (5, 5) (5, 5) (9, 9) (2, 7) (1, 1) (4, 3) (7, 7) (6, 6) (4, 6) (6, 6) (9, 3) (6, 6) (0, 2) (5, 5) (4, 7) (6, 6) (0, 6) (1, 4) (1, 1) (8, 9) (4, 5) (5, 3) (1, 9) (9, 9) (8, 2) (2, 2) (3, 3) (2, 7) (8, 8) (4, 4) (8, 8) (7, 7) (1, 1) (9, 9) (4, 1) (6, 4) (4, 4) (9, 8) (5, 2) (9, 9) (9, 9) (0, 6) (1, 2) (1, 0) (4, 4) (6, 6) (0, 6) (6, 4) (3, 5) (6, 4) (9, 3) (0, 0) (4, 2) (3, 6) (1, 9) (0, 9) (6, 6) (0, 0) (0, 0) (4, 8) (1, 1) (8, 8) (9, 9) (8, 0) (3, 5) (3, 5) (2, 3) (3, 3) (5, 6) (6, 6) (3, 3) (8, 8) (3, 2) (9, 9) (0, 0) (9, 9) (7, 7) (6, 6) (2, 3) (4, 4) (7, 2) (0, 0) (1, 1) (6, 3) (1, 9) (9, 9) (1, 1) (2, 2) (8, 5) (4, 8) (7, 7) (3, 2) (0, 2) (8, 8) (8, 8) (0, 8) (8, 8) (7, 7) (2, 2) (3, 3) (4, 4) (7, 7) (3, 3) (0, 9) (6, 6) (8, 8) (1, 1) (8, 1) (8, 8) (0, 0) (0, 0) (4, 4) (5, 5) (2, 2) (5, 2) (0, 0) (5, 5) (9, 9) (8, 8) (2, 2) (2, 2) (1, 1) (7, 7) (1, 1) (0, 0) (4, 7) (7, 7) (0, 4) (4, 4) (9, 9) (3, 0) (6, 6) (0, 3) (0, 0) (5, 5) (3, 7) (8, 0) (5, 2) (5, 5) (1, 9) (2, 2) (6, 6) (1, 1) (9, 0) (3, 3) (0, 4) (8, 2) (4, 4) (4, 7) (8, 8) (6, 9) (5, 5) (1, 1) (0, 9) (5, 3) (4, 3) (4, 4) (7, 7) (8, 8) (4, 5) (3, 3) (6, 6) (8, 8) (6, 6) (3, 7) (6, 4) (9, 9) (9, 9) (9, 3) (6, 3) (3, 3) (4, 5) (3, 3) (2, 5) (1, 1) (1, 1) (2, 0) (5, 7) (0, 0) (1, 1) (4, 4) (6, 2) (0, 0) (0, 2) (3, 3) (7, 7) (8, 9) (2, 7) (3, 9) (6, 2) (0, 0) (6, 6) (5, 5) (2, 0) (7, 7) (4, 4) (6, 6) (4, 4) (2, 2) (6, 3) (5, 5) (4, 9) (9, 9) (2, 2) (4, 4) (0, 0) (4, 3) (4, 4) (3, 3) (8, 8) (5, 5) (9, 9) (6, 4) (5, 9) (4, 4) (9, 3) (6, 6) (7, 7) (9, 4) (2, 5) (7, 7) (4, 0) (4, 8) (3, 7) (3, 2) (4, 4) (4, 7) (7, 7) (9, 9) (0, 9) (2, 2) (4, 3) (3, 2) (0, 0) (6, 4) (7, 2) (0, 0) (2, 3) (6, 6) (8, 8) (1, 1) (6, 6) (6, 5) (5, 4) (6, 6) (8, 1) (4, 4) (3, 3) (0, 4) (3, 3) (2, 4) (3, 1) (9, 9) (0, 8) (1, 0) (4, 4) (6, 6) (2, 5) (1, 1) (6, 3) (5, 5) (0, 0) (7, 6) (7, 2) (9, 9) (8, 8) (8, 8) (1, 1) (0, 7) (7, 7) (8, 8) (0, 4) (4, 0) (7, 7) (2, 3) (5, 6) (4, 2) (5, 5) (8, 0) (1, 9) (6, 3) (1, 1) (9, 5) (4, 4) (1, 1) (5, 5) (6, 4) (6, 6) (0, 4) (2, 2) (0, 0) (7, 7) (8, 8) (3, 3) (4, 4) (8, 8) (6, 5) (3, 5) (7, 7) (5, 0) (6, 6) (7, 7) (5, 6) (7, 9) (4, 5) (8, 8) (5, 5) (8, 8) (4, 1) (3, 2) (7, 5) (8, 8) (6, 6) (1, 1) (3, 3) (8, 8) (5, 5) (4, 8) (5, 7) (6, 2) (1, 0) (8, 8) (6, 6) (4, 8) (0, 8) (0, 0) (3, 4) (9, 9) (4, 4) (0, 0) (4, 2) (8, 9) (6, 6) (8, 8) (6, 4) (6, 3) (1, 1) (1, 1) (5, 0) (9, 9) (6, 6) (3, 3) (1, 1) (3, 8) (0, 0) (8, 8) (0, 0) (0, 0) (3, 5) (9, 9) (7, 7) (4, 6) (3, 5) (6, 6) (4, 2) (9, 9) (4, 7) (8, 3) (9, 1) (6, 6) (2, 2) (4, 5) (8, 8) (6, 6) (9, 9) (9, 9) (6, 6) (3, 5) (1, 1) (1, 1) (7, 7) (2, 3) (9, 9) (7, 7) (6, 6) (9, 9) (0, 0) (4, 8) (7, 7) (2, 3) (6, 6) (2, 0) (0, 4) (0, 0) (5, 9) (6, 2) (3, 5) (1, 8) (9, 9) (4, 4) (5, 7) (3, 2) (8, 9) (2, 0) (9, 9) (0, 1) (8, 8) (4, 4) (7, 7) (8, 6) (7, 7) (4, 2) (8, 8) (4, 3) (5, 3) (1, 1) (9, 9) (0, 0) (3, 2) (1, 0) (0, 4) (2, 0) (9, 9) (9, 9) (0, 0) (1, 1) (6, 6) (7, 7) (6, 6) (7, 7) (4, 6) (2, 2) (9, 9) (1, 1) (7, 1) (3, 5) (2, 2) (4, 4) (9, 9) (6, 4) (0, 0) (1, 1) (4, 4) (1, 1) (2, 2) (0, 3) (6, 5) (6, 6) (8, 1) (0, 0) (0, 2) (2, 2) (2, 4) (3, 1) (0, 4) (6, 2) (4, 2) (1, 1) (3, 7) (5, 7) (6, 6) (9, 9) (1, 1) (3, 5) (6, 6) (5, 5) (2, 2) (2, 2) (6, 3) (7, 9) (9, 1) (6, 6) (9, 9) (0, 0) (4, 4) (0, 0) (6, 3) (0, 0) (2, 5) (4, 4) (7, 3) (9, 9) (9, 0) (8, 8) (5, 5) (0, 0) (6, 4) (1, 1) (6, 6) (0, 0) (8, 8) (1, 1) (5, 5) (3, 9) (1, 1) (6, 6) (7, 7) (3, 4) (0, 0) (5, 7) (8, 9) (7, 7) (1, 1) (1, 0) (9, 9) (9, 9) (2, 2) (9, 9) (8, 8) (9, 9) (8, 8) (3, 8) (6, 6) (6, 6) (7, 7) (0, 7) (0, 8) (5, 3) (1, 1) (7, 3) (7, 7) (9, 9) (9, 9) (6, 6) (4, 3) (8, 8) (5, 5) (1, 1) (6, 6) (2, 5) (3, 3) (0, 2) (1, 0) (0, 0) (4, 7) (1, 1) (0, 0) (1, 1) (9, 9) (4, 2) (1, 1) (1, 1) (8, 6) (0, 4) (6, 6) (3, 3) (6, 9) (1, 1) (2, 2) (1, 9) (6, 8) (0, 0) (0, 0) (0, 2) (6, 6) (7, 5) (9, 9) (2, 2) (6, 6) (4, 0) (0, 8) (3, 4) (9, 9) (1, 1) (0, 2) (8, 8) (6, 3) (1, 1) (6, 4) (4, 2) (3, 3) (9, 9) (0, 6) (5, 7) (6, 6) (0, 2) (2, 2) (1, 8) (3, 3) (9, 7) (2, 2) (2, 3) (5, 2) (3, 3) (3, 4) (8, 8) (9, 9) (1, 8) (8, 9) (7, 7) (0, 0) (4, 4) (9, 9) (9, 9) (8, 8) (1, 1) (6, 5) (2, 2) (7, 3) (4, 5) (3, 9) (8, 8) (6, 6) (5, 2) (2, 4) (3, 7) (6, 6) (2, 2) (9, 9) (6, 6) (7, 7) (9, 9) (6, 6) (0, 0) (3, 0) (9, 9) (3, 5) (0, 9) (1, 8) (3, 2) (1, 3) (2, 2) (7, 8) (3, 6) (8, 7) (8, 0) (7, 9) (2, 1) (1, 1) (3, 3) (1, 1) (8, 8) (0, 0) (3, 5) (8, 9) (0, 0) (9, 9) (0, 8) (3, 5) (8, 8) (8, 8) (9, 9) (2, 2) (9, 9) (9, 9) (5, 5) (1, 1) (7, 5) (3, 3) (1, 1) (5, 3) (8, 0) (3, 2) (1, 8) (0, 0) (5, 3) (4, 4) (5, 5) (3, 6) (6, 6) (4, 4) (5, 5) (5, 5) (2, 2) (2, 2) (6, 6) (6, 6) (1, 1) (1, 1) (0, 0) (5, 5) (8, 0) (7, 4) (1, 1) (3, 1) (9, 9) (3, 3) (7, 7) (7, 7) (8, 0) (9, 9) (8, 4) (4, 2) (4, 6) (7, 5) (2, 4) (2, 2) (5, 5) (7, 7) (8, 8) (0, 0) (4, 3) (9, 1) (6, 3) (7, 7) (5, 5) (3, 2) (2, 2) (1, 1) (1, 8) (2, 4) (2, 0) (0, 8) (7, 7) (6, 6) (8, 8) (2, 2) (2, 2) (2, 4) (1, 1) (2, 6) (6, 6) (8, 8) (6, 4) (3, 3) (8, 9) (3, 2) (1, 1) (1, 6) (7, 7) (1, 8) (5, 5) (2, 2) (2, 4) (8, 5) (5, 3) (9, 9) (9, 9) (9, 1) (2, 6) (5, 8) (4, 4) (3, 3) (5, 4) (0, 0) (6, 4) (0, 8) (8, 8) (2, 2) (2, 2) (1, 1) (2, 6) (8, 5) (6, 6) (4, 4) (0, 0) (3, 3) (3, 6) (7, 7) (1, 1) (0, 6) (0, 7) (4, 3) (9, 2) (1, 1) (4, 4) (4, 4) (5, 5) (0, 0) (0, 0) (0, 0) (6, 0) (5, 5) (5, 5) (7, 7) (9, 9) (6, 6) (5, 7) (9, 1) (8, 8) (6, 6) (1, 1) (6, 4) (3, 0) (1, 1) (1, 1) (6, 6) (5, 5) (6, 4) (0, 3) (7, 7) (2, 0) (2, 5) (7, 7) (5, 5) (7, 7) (1, 1) (4, 5) (0, 6) (7, 9) (6, 3) (5, 5) (7, 7) (9, 0) (9, 9) (7, 7) (5, 5) (8, 8) (1, 1) (5, 5) (0, 0) (2, 6) (8, 8) (0, 8) (8, 8) (2, 2) (7, 8) (8, 8) (7, 7) (6, 6) (0, 2) (6, 3) (0, 0) (1, 0) (9, 9) (4, 4) (3, 7) (2, 0) (6, 6) (1, 1) (2, 2) (5, 0) (6, 1) (8, 9) (7, 7) (0, 0) (8, 8) (5, 5) (6, 6) (9, 9) (7, 7) (3, 3) (0, 0) (6, 3) (7, 7) (6, 3) (7, 7) (9, 9) (3, 5) (7, 7) (5, 5) (0, 0) (8, 2) (1, 1) (7, 0) (1, 8) (6, 6) (3, 7) (4, 0) (5, 5) (9, 9) (3, 5) (2, 9) (7, 4) (7, 7) (6, 1) (3, 3) (0, 0) (5, 7) (6, 6) (8, 9) (8, 1) (0, 8) (3, 4) (1, 9) (2, 3) (7, 0) (4, 6) (7, 6) (0, 7) (6, 6) (8, 0) (5, 5) (9, 9) (5, 5) (9, 9) (0, 0) (4, 4) (8, 9) (5, 2) (8, 2) (6, 6) (1, 1) (0, 0) (2, 6) (3, 3) (5, 5) (5, 5) (2, 5) (2, 4) (6, 6) (2, 5) (2, 2) (4, 4) (6, 6) (0, 0) (4, 4) (1, 1) (2, 2) (3, 5) (2, 0) (1, 9) (2, 8) (4, 4) (5, 3) (5, 5) (8, 4) (5, 3) (6, 6) (1, 1) (6, 6) (0, 0) (0, 0) (5, 5) (4, 0) (5, 2) (5, 5) (5, 5) (1, 1) (9, 9) (0, 0) (9, 3) (9, 9) (6, 6) (3, 3) (4, 2) (6, 6) (3, 5) (2, 0) (8, 8) (0, 0) (9, 9) (2, 0) (5, 5) (7, 7) (7, 7) (0, 8) (8, 0) (0, 0) (7, 7) (2, 7) (8, 0) (1, 1) (0, 0) (4, 2) (7, 9) (3, 2) (3, 3) (8, 8) (5, 2) (7, 7) (1, 0) (3, 3) (4, 5) (2, 2) (5, 2) (1, 1) (2, 2) (6, 6) (7, 5) (1, 1) (4, 4) (1, 1) (8, 8) (5, 2) (1, 1) (6, 4) (9, 7) (0, 8) (8, 8) (0, 0) (4, 2) (1, 1) (3, 3) (3, 5) (0, 4) (5, 3) (4, 5) (1, 1) (2, 2) (6, 4) (4, 4) (0, 0) (6, 3) (9, 9) (5, 5) (5, 5) (6, 6) (1, 8) (4, 3) (5, 5) (3, 3) (0, 3) (7, 7) (8, 9) (5, 3) (3, 3) (2, 2) (2, 2) (1, 1) (8, 8) (2, 7) (6, 3) (0, 5) (7, 5) (6, 4) (0, 3) (0, 0) (6, 6) (3, 2) (3, 2) (1, 1) (5, 5) (3, 5) (3, 3) (2, 4) (3, 4) (4, 4) (2, 2) (3, 2) (1, 1) (5, 5) (5, 3) (2, 2) (1, 1) (5, 4) (3, 4) (6, 6) (6, 9) (1, 1) (7, 8) (2, 2) (2, 7) (7, 7) (3, 6) (0, 9) (5, 5) (2, 4) (7, 7) (0, 0) (6, 2) (6, 6) (4, 0) (2, 2) (5, 3) (0, 0) (5, 9) (9, 9) (2, 2) (6, 3) (8, 6) (5, 3) (1, 1) (2, 2) (7, 7) (2, 5) (5, 2) (3, 3) (3, 0) (1, 2) (4, 4) (4, 4) (9, 1) (2, 4) (5, 7) (7, 5) (5, 5) (3, 7) (4, 6) (4, 5) (7, 7) (4, 4) (9, 9) (5, 3) (4, 0) (2, 2) (0, 0) (4, 2) (7, 7) (5, 5) (7, 7) (4, 7) (2, 2) (2, 2) (8, 8) (2, 2) (7, 2) (2, 0) (7, 7) (8, 8) (0, 0) (7, 9) (3, 5) (0, 0) (3, 5) (3, 7) (6, 6) (8, 0) (4, 2) (9, 9) (1, 1) (7, 7) (0, 2) (3, 9) (0, 0) (0, 2) (5, 3) (6, 6) (4, 7) (5, 5) (0, 0) (4, 4) (2, 3) (0, 2) (1, 1) (1, 1) (3, 9) (5, 2) (8, 8) (2, 4) (6, 6) (8, 0) (1, 1) (0, 0) (3, 3) (8, 8) (9, 9) (4, 4) (1, 1) (6, 8) (7, 7) (5, 5) (2, 3) (0, 8) (2, 2) (1, 1) (1, 1) (0, 0) (8, 8) (9, 7) (7, 7) (5, 5) (9, 9) (9, 9) (4, 7) (3, 3) (4, 4) (4, 3) (3, 3) (3, 3) (3, 3) (6, 6) (3, 6) (2, 2) (6, 4) (3, 0) (8, 8) (8, 8) (2, 3) (5, 5) (2, 4) (0, 6) (9, 9) (5, 5) (5, 5) (7, 7) (5, 7) (3, 3) (0, 8) (1, 8) (3, 7) (8, 2) (5, 5) (4, 7) (8, 8) (1, 1) (6, 6) (4, 3) (2, 0) (3, 5) (6, 2) (1, 6) (7, 4) (7, 7) (6, 2) (4, 4) (1, 1) (8, 8) (0, 0) (3, 0) (4, 7) (9, 9) (9, 9) (1, 1) (0, 8) (1, 0) (7, 7) (3, 3) (5, 4) (6, 6) (1, 1) (1, 1) (8, 0) (2, 2) (1, 1) (3, 5) (9, 9) (7, 7) (5, 5) (1, 1) (9, 8) (6, 2) (7, 7) (1, 1) (8, 8) (3, 5) (1, 9) (8, 0) (3, 7) (5, 5) (0, 0) (8, 4) (4, 2) (4, 4) (7, 0) (4, 4) (8, 8) (2, 4) (7, 3) (1, 1) (7, 7) (3, 2) (6, 3) (7, 7) (7, 7) (6, 6) (8, 8) (6, 6) (4, 4) (4, 4) (9, 5) (9, 9) (8, 1) (2, 3) (1, 5) (7, 3) (8, 8) (4, 2) (6, 6) (7, 7) (4, 4) (5, 1) (4, 6) (6, 6) (1, 1) (0, 7) (6, 3) (0, 0) (1, 1) (6, 4) (5, 5) (1, 1) (4, 4) (9, 9) (5, 3) (5, 5) (9, 9) (0, 8) (0, 4) (3, 3) (5, 5) (8, 8) (0, 8) (6, 3) (9, 9) (5, 4) (5, 3) (0, 0) (4, 5) (6, 6) (9, 9) (0, 1) (2, 0) (9, 9) (2, 4) (1, 1) (6, 6) (3, 3) (9, 9) (2, 4) (4, 3) (4, 6) (4, 2) (1, 2) (2, 0) (2, 3) (3, 6) (6, 5) (2, 5) (0, 0) (0, 0) (4, 4) (0, 2) (1, 1) (4, 1) (5, 5) (3, 3) (3, 2) (3, 3) (5, 2) (1, 1) (6, 6) (7, 9) (6, 6) (2, 2) (6, 6) (0, 0) (1, 1) (2, 2) (4, 4) (4, 4) (6, 6) (7, 5) (2, 2) (3, 3) (5, 5) (1, 1) (2, 2) (6, 6) (8, 8) (2, 9) (3, 5) (3, 2) (8, 0) (2, 0) (0, 0) (8, 8) (0, 0) (4, 5) (1, 1) (1, 1) (2, 6) (6, 6) (8, 3) (4, 4) (9, 9) (1, 9) (5, 5) (6, 6) (4, 8) (5, 0) (8, 0) (3, 3) (5, 5) (7, 7) (4, 4) (0, 2) (3, 5) (0, 0) (2, 8) (5, 7) (8, 8) (4, 4) (5, 3) (7, 4) (3, 2) (6, 6) (2, 3) (1, 1) (8, 3) (4, 2) (4, 4) (3, 6) (5, 5) (0, 9) (3, 2) (0, 0) (2, 2) (1, 1) (6, 6) (1, 8) (3, 6) (7, 7) (8, 8) (0, 0) (8, 8) (2, 2) (3, 5) (9, 9) (8, 9) (4, 4) (0, 0) (4, 4) (1, 1) (8, 8) (5, 8) (3, 5) (5, 7) (1, 1) (0, 0) (6, 6) (2, 6) (7, 7) (4, 2) (5, 6) (1, 1) (2, 2) (5, 3) (5, 3) (0, 8) (0, 0) (8, 3) (5, 2) (1, 1) (1, 9) (1, 3) (9, 1) (0, 0) (8, 8) (9, 9) (1, 1) (9, 9) (4, 2) (8, 8) (5, 5) (9, 9) (1, 1) (4, 9) (6, 4) (9, 0) (3, 5) (2, 3) (4, 4) (0, 0) (8, 8) (4, 4) (8, 8) (7, 7) (2, 2) (4, 7) (9, 9) (5, 2) (6, 4) (4, 3) (4, 4) (1, 1) (4, 4) (5, 5) (4, 4) (7, 7) (0, 7) (4, 3) (6, 6) (9, 0) (3, 4) (5, 7) (3, 5) (8, 8) (8, 8) (6, 6) (3, 3) (2, 5) (4, 4) (6, 3) (2, 2) (8, 8) (8, 8) (3, 3) (7, 7) (2, 5) (4, 8) (0, 8) (8, 9) (0, 0) (4, 4) (0, 0) (4, 4) (6, 6) (8, 8) (2, 0) (7, 7) (9, 9) (4, 4) (8, 8) (4, 4) (6, 6) (9, 9) (7, 7) (7, 4) (5, 5) (5, 5) (2, 2) (9, 9) (5, 5) (4, 6) (1, 1) (8, 8) (9, 1) (0, 0) (7, 3) (1, 1) (3, 5) (9, 9) (3, 3) (0, 2) (7, 7) (1, 1) (1, 8) (6, 4) (7, 7) (3, 7) (9, 9) (5, 5) (2, 3) (5, 5) (7, 7) (8, 8) (0, 0) (8, 8) (5, 6) (0, 0) (7, 7) (1, 0) (1, 9) (4, 4) (8, 0) (4, 4) (7, 7) (8, 0) (5, 3) (0, 0) (5, 5) (0, 0) (5, 3) (7, 7) (6, 6) (6, 6) (5, 5) (0, 7) (4, 0) (1, 1) (0, 0) (6, 0) (1, 1) (3, 3) (6, 5) (8, 8) (7, 3) (2, 2) (8, 0) (2, 2) (4, 3) (1, 1) (7, 4) (7, 7) (0, 0) (2, 0) (3, 2) (8, 9) (8, 8) (4, 4) (1, 1) (7, 7) (5, 5) (9, 9) (3, 3) (5, 6) (4, 4) (5, 5) (4, 4) (4, 4) (1, 1) (2, 7) (1, 1) (7, 7) (5, 3) (7, 5) (2, 2) (6, 6) (1, 1) (7, 7) (5, 5) (6, 4) (5, 0) (1, 3) (9, 1) (9, 1) (6, 6) (7, 7) (3, 3) (0, 0) (3, 3) (6, 6) (7, 7) (6, 2) (6, 6) (8, 3) (8, 9) (8, 8) (3, 6) (6, 6) (6, 3) (5, 0) (6, 2) (3, 2) (0, 8) (5, 7) (0, 0) (0, 0) (7, 4) (4, 5) (7, 7) (4, 2) (3, 3) (9, 9) (3, 4) (1, 1) (1, 1) (7, 7) (5, 3) (3, 3) (3, 3) (3, 3) (1, 1) (8, 8) (3, 3) (5, 7) (0, 0) (2, 4) (0, 2) (2, 6) (0, 3) (4, 9) (5, 5) (4, 6) (7, 3) (8, 8) (5, 5) (4, 4) (1, 0) (5, 3) (2, 4) (9, 9) (2, 5) (8, 0) (6, 6) (2, 2) (7, 4) (6, 1) (4, 4) (4, 4) (6, 6) (0, 0) (6, 6) (8, 8) (3, 3) (3, 1) (9, 9) (7, 7) (3, 5) (6, 6) (2, 6) (6, 9) (3, 3) (6, 1) (6, 4) (0, 0) (1, 3) (7, 7) (1, 1) (7, 7) (3, 9) (8, 8) (0, 3) (6, 4) (8, 9) (8, 8) (5, 5) (8, 8) (9, 9) (3, 5) (6, 6) (5, 0) (1, 1) (2, 6) (8, 7) (2, 4) (6, 2) (1, 1) (3, 2) (6, 6) (7, 7) (6, 6) (7, 7) (0, 0) (0, 8) (4, 4) (7, 7) (9, 9) (8, 8) (2, 7) (1, 1) (7, 2) (0, 0) (9, 5) (0, 8) (6, 6) (5, 5) (7, 9) (5, 3) (4, 2) (2, 1) (3, 0) (4, 3) (9, 9) (4, 3) (5, 6) (3, 3) (3, 3) (6, 6) (3, 3) (4, 4) (7, 9) (4, 4) (7, 3) (3, 3) (7, 9) (7, 3) (7, 7) (1, 1) (1, 1) (8, 6) (0, 0) (3, 9) (1, 1) (0, 0) (3, 7) (7, 7) (5, 5) (7, 7) (8, 1) (5, 7) (0, 5) (7, 4) (3, 5) (3, 0) (0, 8) (6, 6) (5, 5) (0, 8) (1, 1) (2, 5) (5, 4) (6, 6) (8, 1) (6, 6) (7, 4) (6, 6) (8, 8) (4, 4) (5, 5) (9, 9) (2, 2) (3, 3) (2, 2) (3, 6) (4, 4) (6, 6) (0, 2) (0, 3) (4, 4) (0, 8) (1, 1) (4, 3) (6, 6) (7, 7) (6, 6) (0, 0) (9, 9) (8, 8) (9, 9) (1, 1) (6, 2) (4, 4) (2, 2) (6, 6) (1, 4) (0, 8) (7, 9) (8, 8) (8, 8) (9, 1) (1, 9) (8, 0) (7, 9) (4, 4) (3, 4) (1, 1) (9, 9) (5, 5) (6, 3) (6, 6) (9, 9) (0, 0) (3, 2) (2, 3) (5, 5) (1, 1) (6, 6) (1, 1) (4, 3) (0, 0) (6, 6) (2, 3) (0, 0) (4, 4) (6, 3) (4, 4) (1, 1) (1, 1) (1, 8) (8, 8) (8, 4) (9, 9) (2, 2) (6, 6) (9, 9) (9, 9) (6, 8) (7, 7) (8, 8) (4, 3) (6, 6) (4, 4) (4, 0) (3, 3) (9, 9) (3, 5) (0, 0) (3, 4) (3, 6) (1, 1) (7, 7) (7, 7) (6, 1) (0, 5) (4, 4) (6, 6) (8, 9) (7, 6) (8, 0) (7, 5) (1, 5) (5, 2) (5, 4) (1, 1) (9, 9) (3, 3) (3, 3) (3, 5) (4, 7) (9, 9) (9, 9) (8, 8) (0, 0) (8, 8) (0, 1) (0, 1) (1, 9) (7, 7) (9, 9) (7, 7) (2, 0) (3, 5) (6, 6) (2, 2) (3, 9) (2, 4) (0, 8) (4, 6) (8, 4) (3, 3) (1, 1) (6, 1) (2, 2) (7, 7) (5, 4) (8, 8) (9, 6) (3, 7) (3, 3) (5, 5) (8, 8) (3, 1) (2, 3) (4, 2) (5, 3) (4, 5) (6, 3) (6, 6) (3, 6) (3, 4) (3, 5) (9, 9) (9, 9) (0, 0) (2, 6) (7, 5) (7, 7) (6, 6) (3, 5) (5, 5) (4, 4) (6, 6) (5, 2) (4, 4) (5, 5) (3, 3) (4, 4) (6, 5) (5, 9) (5, 5) (1, 9) (0, 0) (6, 6) (1, 3) (6, 6) (7, 5) (6, 1) (1, 8) (5, 5) (2, 2) (5, 5) (1, 1) (0, 0) (5, 7) (5, 7) (8, 8) (1, 9) (3, 3) (5, 5) (6, 6) (3, 5) (4, 4) (2, 2) (1, 1) (0, 0) (3, 2) (4, 4) (9, 9) (3, 3) (3, 0) (9, 8) (3, 2) (8, 0) (0, 0) (8, 7) (5, 7) (7, 7) (6, 6) (0, 0) (2, 3) (6, 6) (3, 1) (8, 8) (8, 8) (8, 8) (1, 1) (5, 6) (2, 4) (2, 0) (9, 9) (8, 8) (4, 7) (7, 7) (0, 2) (2, 5) (7, 2) (4, 4) (8, 8) (1, 1) (6, 6) (3, 3) (3, 4) (0, 0) (7, 2) (7, 5) (1, 1) (2, 5) (7, 7) (7, 7) (7, 7) (0, 0) (1, 1) (7, 7) (1, 8) (7, 3) (8, 4) (1, 1) (6, 6) (5, 6) (9, 9) (9, 9) (2, 4) (8, 9) (4, 5) (0, 8) (3, 5) (9, 9) (3, 3) (4, 0) (1, 5) (1, 1) (8, 8) (1, 1) (0, 0) (3, 5) (4, 4) (2, 0) (7, 5) (9, 1) (7, 7) (3, 3) (8, 8) (5, 5) (9, 9) (3, 5) (1, 1) (3, 4) (1, 8) (4, 6) (1, 1) (1, 8) (7, 5) (2, 2) (0, 7) (5, 3) (0, 8) (0, 0) (7, 7) (6, 6) (7, 5) (5, 5) (7, 7) (1, 1) (1, 1) (3, 3) (6, 6) (9, 9) (3, 5) (6, 6) (9, 9) (0, 0) (5, 3) (4, 4) (0, 0) (9, 9) (3, 6) (8, 0) (9, 8) (7, 7) (3, 5) (9, 9) (2, 2) (8, 8) (6, 4) (5, 5) (9, 9) (4, 2) (1, 1) (5, 5) (0, 0) (2, 2) (3, 5) (4, 4) (4, 4) (8, 8) (4, 1) (6, 8) (4, 4) (3, 6) (8, 8) (8, 8) (2, 4) (4, 5) (0, 0) (5, 5) (1, 9) (0, 0) (0, 8) (6, 6) (8, 8) (0, 0) (9, 9) (4, 5) (1, 1) (7, 7) (5, 5) (6, 6) (7, 7) (8, 8) (5, 5) (1, 8) (3, 5) (6, 6) (0, 8) (2, 2) (2, 4) (1, 9) (5, 4) (2, 5) (0, 9) (6, 6) (5, 3) (0, 8) (4, 2) (8, 8) (9, 9) (5, 5) (5, 3) (7, 7) (9, 0) (3, 5) (9, 0) (3, 0) (5, 5) (6, 6) (9, 9) (7, 4) (6, 6) (3, 6) (0, 2) (1, 1) (6, 6) (6, 3) (6, 6) (9, 8) (6, 6) (8, 8) (3, 3) (0, 2) (5, 5) (5, 5) (0, 4) (6, 6) (2, 2) (1, 8) (8, 8) (5, 4) (9, 9) (1, 1) (2, 7) (1, 0) (8, 2) (2, 5) (8, 0) (9, 8) (0, 1) (4, 2) (2, 4) (3, 2) (1, 1) (9, 9) (0, 0) (5, 5) (4, 7) (1, 1) (4, 4) (4, 2) (2, 2) (7, 7) (7, 7) (0, 0) (3, 3) (5, 5) (5, 5) (0, 8) (5, 3) (2, 0) (1, 1) (2, 0) (8, 2) (6, 6) (7, 7) (3, 3) (8, 0) (8, 8) (8, 8) (4, 2) (1, 2) (8, 8) (0, 0) (3, 5) (3, 2) (7, 6) (6, 6) (9, 9) (2, 0) (5, 4) (2, 3) (5, 3) (4, 4) (5, 3) (1, 1) (5, 5) (1, 1) (4, 4) (8, 8) (5, 5) (3, 3) (9, 9) (7, 7) (5, 3) (8, 1) (3, 5) (1, 1) (3, 3) (9, 0) (1, 1) (4, 4) (3, 4) (6, 2) (6, 3) (8, 8) (3, 4) (3, 7) (8, 0) (2, 0) (5, 2) (9, 9) (5, 2) (2, 4) (5, 5) (7, 8) (0, 0) (5, 5) (7, 7) (0, 0) (1, 7) (2, 2) (5, 5) (1, 9) (5, 5) (6, 2) (1, 1) (1, 1) (9, 9) (4, 4) (5, 4) (0, 3) (1, 1) (1, 1) (1, 1) (0, 8) (0, 8) (2, 4) (5, 5) (0, 0) (7, 7) (5, 6) (0, 0) (6, 5) (4, 7) (8, 2) (8, 8) (0, 2) (2, 2) (1, 1) (1, 5) (9, 0) (2, 2) (0, 0) (1, 8) (1, 1) (8, 8) (7, 8) (3, 5) (1, 1) (8, 5) (4, 7) (7, 7) (4, 4) (0, 8) (9, 9) (9, 9) (1, 1) (9, 9) (1, 3) (7, 7) (3, 3) (7, 7) (2, 4) (4, 2) (4, 4) (7, 5) (4, 7) (7, 7) (8, 8) (7, 7) (9, 9) (6, 6) (1, 8) (4, 4) (7, 5) (7, 7) (1, 1) (9, 9) (5, 7) (8, 8) (9, 9) (8, 8) (9, 8) (6, 6) (7, 7) (5, 5) (1, 1) (9, 9) (6, 5) (6, 3) (3, 3) (0, 6) (6, 6) (5, 6) (5, 6) (9, 9) (3, 3) (2, 2) (3, 3) (9, 3) (3, 2) (6, 4) (7, 0) (6, 5) (0, 0) (5, 5) (1, 8) (4, 4) (6, 6) (7, 7) (3, 0) (2, 5) (0, 9) (4, 4) (9, 9) (0, 0) (5, 5) (2, 3) (0, 0) (8, 0) (9, 1) (2, 2) (4, 9) (5, 5) (3, 3) (8, 8) (8, 0) (3, 3) (7, 7) (9, 9) (1, 1) (3, 4) (2, 2) (6, 3) (6, 6) (8, 8) (0, 0) (9, 9) (4, 4) (3, 0) (1, 1) (8, 9) (4, 7) (0, 0) (2, 2) (5, 3) (3, 3) (1, 1) (1, 1) (9, 9) (7, 2) (7, 3) (2, 2) (6, 4) (6, 6) (2, 3) (0, 2) (9, 9) (7, 7) (3, 1) (7, 5) (9, 9) (0, 3) (5, 5) (3, 3) (7, 7) (1, 1) (6, 6) (5, 0) (1, 1) (0, 0) (8, 8) (7, 5) (4, 4) (6, 5) (7, 7) (0, 0) (9, 9) (5, 3) (5, 5) (5, 5) (4, 4) (2, 4) (3, 3) (8, 8) (8, 2) (9, 7) (9, 8) (7, 6) (6, 6) (5, 4) (1, 1) (9, 9) (2, 5) (1, 1) (3, 5) (6, 5) (4, 4) (9, 9) (4, 4) (5, 1) (0, 8) (5, 5) (2, 2) (0, 0) (3, 5) (8, 5) (5, 5) (6, 5) (8, 8) (2, 2) (2, 4) (0, 2) (4, 9) (8, 8) (8, 0) (4, 2) (4, 4) (0, 0) (0, 0) (8, 8) (0, 8) (6, 6) (5, 5) (7, 4) (5, 5) (3, 3) (9, 9) (4, 4) (3, 5) (5, 5) (3, 5) (0, 5) (3, 6) (9, 9) (8, 8) (9, 9) (8, 8) (8, 8) (9, 3) (0, 8) (7, 7) (2, 6) (2, 2) (6, 6) (0, 0) (1, 1) (9, 9) (5, 5) (9, 5) (6, 4) (6, 6) (4, 4) (3, 7) (9, 9) (0, 3) (8, 8) (0, 6) (3, 2) (1, 1) (8, 0) (1, 1) (3, 3) (7, 7) (9, 9) (3, 5) (3, 7) (6, 6) (3, 5) (8, 8) (7, 3) (9, 9) (2, 3) (8, 5) (3, 3) (5, 5) (0, 8) (7, 7) (6, 6) (9, 9) (0, 0) (9, 9) (1, 9) (5, 7) (2, 2) (2, 2) (2, 7) (7, 9) (6, 6) (6, 5) (4, 5) (6, 6) (0, 0) (4, 2) (5, 3) (2, 2) (6, 6) (7, 3) (0, 0) (6, 8) (0, 0) (3, 3) (5, 4) (7, 8) (4, 4) (3, 0) (6, 6) (1, 1) (4, 4) (1, 9) (0, 8) (4, 9) (2, 0) (8, 0) (3, 3) (1, 4) (3, 5) (1, 5) (1, 1) (1, 1) (6, 6) (5, 5) (2, 6) (0, 0) (9, 9) (1, 9) (8, 8) (6, 6) (6, 4) (0, 0) (1, 8) (0, 0) (8, 8) (6, 6) (7, 7) (3, 5) (1, 1) (8, 8) (6, 3) (3, 8) (5, 3) (0, 6) (3, 5) (7, 4) (2, 4) (5, 2) (2, 2) (8, 8) (0, 0) (2, 2) (4, 4) (2, 2) (9, 8) (9, 9) (9, 1) (7, 7) (7, 5) (8, 7) (0, 8) (7, 7) (3, 1) (7, 7) (1, 1) (9, 9) (4, 6) (1, 1) (6, 6) (5, 5) (2, 8) (6, 5) (9, 9) (7, 7) (4, 4) (3, 2) (3, 4) (8, 2) (3, 3) (7, 7) (7, 7) (9, 9) (6, 5) (3, 6) (5, 2) (0, 0) (6, 6) (8, 0) (2, 0) (5, 5) (0, 0) (3, 0) (7, 7) (1, 1) (1, 1) (6, 6) (7, 7) (1, 1) (7, 7) (1, 1) (7, 7) (4, 2) (2, 0) (3, 2) (7, 7) (9, 0) (4, 6) (2, 2) (6, 6) (7, 7) (1, 1) (7, 5) (0, 0) (8, 8) (6, 6) (7, 7) (9, 9) (5, 5) (6, 6) (1, 9) (3, 7) (3, 5) (6, 6) (0, 0) (8, 5) (3, 3) (5, 7) (3, 3) (1, 3) (1, 1) (0, 0) (1, 1) (6, 1) (6, 4) (8, 8) (4, 4) (1, 8) (0, 0) (8, 8) (6, 5) (0, 0) (6, 3) (2, 2) (6, 6) (1, 1) (5, 5) (8, 8) (0, 5) (5, 5) (8, 8) (0, 8) (3, 7) (6, 6) (5, 5) (1, 1) (3, 2) (0, 0) (7, 7) (3, 3) (9, 9) (0, 8) (9, 9) (1, 8) (0, 0) (9, 9) (4, 7) (6, 6) (9, 9) (7, 2) (5, 3) (6, 4) (8, 8) (7, 7) (8, 1) (1, 1) (8, 8) (0, 0) (3, 4) (8, 0) (5, 6) (0, 9) (1, 1) (5, 4) (2, 5) (4, 8) (6, 6) (8, 8) (1, 0) (6, 2) (8, 9) (9, 5) (6, 6) (7, 4) (7, 7) (8, 8) (5, 3) (8, 8) (6, 3) (1, 1) (5, 3) (9, 7) (5, 3) (7, 7) (0, 3) (4, 4) (7, 7) (8, 8) (4, 5) (7, 7) (6, 6) (5, 2) (0, 8) (2, 7) (0, 8) (3, 9) (5, 7) (4, 4) (9, 7) (0, 0) (6, 6) (0, 0) (5, 5) (0, 2) (3, 6) (5, 5) (1, 6) (7, 7) (6, 1) (3, 5) (0, 0) (6, 4) (9, 9) (7, 7) (5, 5) (4, 4) (4, 4) (2, 6) (5, 2) (8, 8) (2, 8) (4, 2) (9, 9) (8, 9) (9, 9) (7, 7) (1, 1) (4, 3) (4, 7) (7, 7) (2, 3) (2, 8) (4, 5) (4, 3) (6, 6) (8, 3) (2, 2) (1, 1) (3, 5) (7, 7) (7, 7) (0, 8) (0, 3) (8, 8) (4, 4) (9, 9) (0, 0) (6, 6) (4, 4) (2, 9) (9, 9) (7, 7) (8, 8) (8, 0) (4, 4) (7, 3) (9, 9) (6, 6) (7, 7) (7, 7) (2, 4) (7, 7) (6, 6) (9, 9) (8, 2) (6, 6) (4, 4) (7, 7) (5, 5) (5, 5) (9, 9) (0, 0) (9, 3) (5, 7) (5, 5) (2, 2) (3, 6) (5, 5) (0, 0) (3, 3) (3, 3) (8, 8) (1, 1) (2, 0) (1, 1) (1, 4) (7, 7) (7, 4) (5, 3) (4, 4) (5, 5) (9, 9) (1, 1) (8, 8) (7, 7) (0, 0) (4, 4) (8, 1) (8, 8) (2, 7) (5, 4) (7, 4) (8, 8) (4, 6) (3, 5) (4, 6) (1, 1) (7, 7) (9, 8) (7, 7) (1, 1) (3, 5) (2, 7) (6, 5) (2, 2) (5, 5) (3, 3) (7, 2) (5, 5) (0, 0) (6, 6) (5, 5) (1, 2) (2, 7) (2, 8) (9, 9) (2, 2) (5, 2) (4, 6) (7, 4) (9, 9) (8, 0) (1, 1) (4, 2) (5, 4) (1, 1) (3, 7) (8, 5) (6, 6) (8, 0) (2, 5) (6, 6) (4, 2) (8, 8) (3, 5) (5, 3) (3, 4) (1, 1) (5, 5) (8, 8) (5, 2) (3, 3) (4, 4) (5, 3) (3, 3) (8, 8) (6, 6) (7, 7) (4, 4) (1, 1) (3, 6) (9, 1) (7, 7) (4, 5) (5, 5) (9, 9) (8, 8) (1, 1) (1, 1) (3, 6) (6, 6) (4, 4) (6, 5) (0, 0) (5, 0) (9, 9) (1, 1) (1, 9) (0, 0) (8, 6) (7, 7) (4, 2) (6, 6) (6, 6) (7, 9) (9, 9) (2, 2) (0, 0) (8, 0) (1, 1) (7, 7) (9, 9) (0, 0) (5, 5) (8, 9) (0, 7) (3, 4) (1, 8) (4, 2) (8, 8) (7, 4) (8, 8) (4, 4) (5, 4) (2, 2) (1, 1) (7, 5) (8, 8) (3, 3) (6, 6) (7, 7) (3, 7) (0, 0) (9, 9) (8, 8) (1, 1) (2, 3) (2, 5) (3, 1) (4, 5) (5, 3) (6, 6) (2, 2) (7, 3) (9, 8) (2, 3) (9, 9) (1, 1) (5, 0) (3, 3) (1, 1) (5, 6) (7, 7) (5, 5) (2, 5) (1, 1) (0, 0) (5, 3) (5, 5) (3, 5) (0, 0) (9, 1) (2, 1) (4, 4) (3, 3) (7, 7) (6, 4) (9, 9) (0, 8) (2, 6) (1, 1) (8, 8) (7, 7) (1, 6) (0, 2) (6, 6) (5, 5) (0, 2) (9, 0) (0, 0) (3, 3) (2, 7) (8, 8) (1, 1) (2, 6) (6, 1) (4, 7) (4, 8) (4, 2) (3, 3) (4, 4) (1, 1) (4, 5) (4, 7) (1, 1) (7, 2) (7, 9) (1, 1) (2, 3) (7, 7) (4, 7) (1, 1) (3, 6) (4, 4) (5, 5) (0, 0) (3, 3) (0, 7) (0, 1) (3, 5) (0, 2) (7, 7) (5, 5) (9, 9) (6, 6) (3, 3) (5, 2) (8, 8) (1, 8) (4, 5) (6, 6) (0, 0) (1, 1) (7, 8) (9, 9) (2, 2) (1, 3) (0, 0) (3, 9) (1, 1) (1, 1) (3, 5) (5, 5) (7, 7) (7, 7) (1, 1) (6, 3) (5, 3) (2, 2) (8, 0) (9, 9) (9, 4) (6, 3) (7, 5) (4, 8) (5, 2) (6, 6) (6, 6) (4, 3) (6, 6) (8, 8) (0, 3) (7, 7) (6, 6) (6, 4) (5, 1) (5, 5) (2, 2) (0, 4) (8, 8) (6, 6) (8, 1) (6, 6) (4, 3) (1, 1) (3, 5) (5, 8) (7, 7) (1, 8) (2, 2) (5, 6) (7, 6) (1, 1) (2, 2) (1, 8) (7, 7) (3, 3) (2, 2) (1, 1) (1, 1) (2, 0) (2, 2) (7, 5) (4, 4) (6, 6) (2, 0) (2, 2) (1, 3) (1, 1) (3, 6) (0, 3) (9, 9) (9, 9) (9, 9) (8, 8) (6, 6) (9, 9) (2, 4) (2, 2) (8, 8) (4, 4) (0, 8) (6, 0) (0, 8) (6, 6) (3, 3) (8, 0) (4, 4) (7, 5) (6, 6) (0, 6) (2, 6) (1, 1) (3, 2) (8, 1) (5, 5) (8, 9) (9, 9) (7, 7) (8, 8) (6, 6) (1, 0) (5, 5) (0, 0) (6, 6) (8, 8) (3, 5) (7, 7) (6, 8) (8, 8) (2, 1) (8, 4) (9, 9) (7, 7) (5, 3) (0, 0) (4, 4) (0, 0) (5, 7) (6, 3) (8, 7) (8, 8) (0, 2) (5, 5) (3, 3) (5, 7) (3, 3) (1, 1) (0, 5) (1, 1) (4, 2) (0, 8) (4, 6) (9, 9) (4, 4) (8, 8) (6, 6) (3, 1) (1, 1) (5, 2) (7, 7) (6, 1) (7, 7) (3, 2) (4, 4) (0, 8) (7, 9) (4, 7) (8, 1) (5, 5) (6, 6) (8, 8) (6, 6) (5, 5) (0, 0) (4, 4) (1, 1) (1, 9) (9, 9) (7, 7) (6, 3) (7, 4) (8, 2) (0, 8) (4, 4) (1, 1) (7, 7) (1, 9) (5, 5) (5, 7) (1, 1) (6, 6) (6, 6) (5, 5) (5, 2) (6, 6) (5, 3) (6, 4) (6, 5) (4, 4) (5, 5) (3, 4) (0, 8) (6, 6) (6, 3) (4, 2) (7, 7) (4, 5) (4, 4) (3, 4) (5, 2) (4, 2) (1, 1) (6, 6) (1, 9) (0, 0) (6, 6) (3, 2) (5, 7) (0, 0) (9, 9) (6, 6) (9, 9) (7, 7) (9, 6) (1, 1) (6, 6) (1, 8) (1, 1) (9, 1) (8, 8) (6, 6) (0, 7) (6, 1) (6, 3) (1, 9) (5, 2) (7, 3) (0, 0) (0, 0) (1, 8) (4, 5) (9, 9) (2, 3) (4, 2) (7, 9) (4, 4) (4, 4) (4, 2) (1, 1) (9, 9) (7, 2) (0, 0) (5, 4) (3, 2) (2, 2) (4, 3) (8, 8) (5, 5) (3, 4) (0, 0) (9, 9) (3, 3) (1, 1) (3, 4) (1, 1) (2, 4) (4, 5) (6, 2) (1, 1) (3, 7) (6, 0) (6, 6) (0, 8) (6, 3) (6, 6) (8, 1) (5, 3) (9, 9) (1, 4) (3, 7) (9, 1) (2, 2) (5, 5) (9, 9) (3, 5) (8, 8) (2, 4) (8, 8) (6, 6) (5, 3) (0, 0) (6, 6) (5, 5) (8, 8) (3, 7) (1, 1) (4, 3) (1, 1) (2, 2) (3, 3) (9, 9) (7, 5) (4, 5) (9, 9) (0, 1) (7, 7) (0, 2) (5, 3) (2, 2) (7, 7) (2, 4) (9, 9) (4, 7) (9, 9) (9, 9) (0, 0) (9, 9) (9, 9) (8, 2) (7, 7) (4, 0) (8, 8) (2, 2) (2, 2) (3, 3) (0, 8) (3, 1) (8, 8) (7, 7) (2, 5) (8, 8) (7, 7) (5, 5) (6, 6) (7, 3) (3, 2) (7, 7) (1, 7) (7, 7) (1, 1) (6, 6) (6, 6) (1, 1) (9, 9) (7, 2) (3, 3) (5, 9) (5, 3) (8, 8) (5, 7) (2, 2) (5, 6) (7, 7) (5, 0) (1, 1) (1, 0) (5, 7) (2, 4) (2, 3) (0, 8) (4, 4) (2, 6) (0, 2) (6, 6) (4, 2) (6, 6) (2, 5) (3, 7) (4, 5) (4, 4) (3, 0) (4, 4) (4, 4) (5, 3) (5, 3) (3, 7) (6, 2) (2, 5) (9, 9) (1, 1) (8, 8) (8, 6) (4, 5) (4, 4) (5, 4) (1, 1) (1, 9) (2, 3) (3, 2) (6, 6) (0, 0) (5, 7) (6, 4) (7, 7) (8, 8) (0, 5) (6, 6) (6, 6) (9, 9) (0, 8) (6, 5) (8, 8) (8, 0) (5, 5) (4, 4) (9, 9) (6, 6) (9, 9) (6, 6) (8, 7) (4, 3) (0, 0) (7, 6) (8, 4) (9, 1) (9, 1) (0, 0) (6, 6) (0, 0) (2, 6) (2, 5) (9, 9) (6, 6) (2, 4) (9, 1) (4, 3) (0, 0) (0, 0) (2, 4) (2, 8) (3, 3) (7, 2) (4, 4) (7, 7) (7, 3) (9, 9) (6, 6) (0, 4) (9, 9) (1, 1) (0, 3) (6, 8) (8, 8) (3, 2) (1, 1) (4, 4) (0, 7) (2, 2) (0, 0) (9, 9) (8, 8) (6, 6) (3, 3) (7, 7) (8, 8) (5, 5) (7, 7) (5, 2) (1, 1) (3, 3) (2, 2) (6, 8) (0, 0) (1, 1) (0, 2) (0, 8) (2, 5) (6, 6) (1, 5) (0, 7) (9, 9) (6, 6) (0, 0) (5, 2) (9, 9) (5, 3) (8, 8) (1, 1) (0, 7) (1, 8) (7, 7) (1, 9) (2, 3) (5, 5) (8, 2) (5, 7) (1, 1) (5, 5) (1, 1) (2, 0) (5, 6) (6, 6) (8, 0) (8, 8) (5, 5) (7, 7) (3, 6) (3, 1) (3, 3) (1, 1) (1, 1) (8, 8) (6, 6) (0, 0) (6, 6) (0, 6) (9, 9) (9, 1) (5, 2) (5, 7) (7, 7) (4, 6) (8, 8) (4, 0) (0, 0) (2, 2) (0, 1) (8, 1) (9, 3) (2, 6) (0, 0) (8, 1) (3, 3) (7, 3) (6, 6) (1, 1) (6, 6) (7, 5) (4, 4) (0, 0) (3, 6) (9, 9) (8, 8) (6, 6) (3, 0) (0, 0) (1, 1) (0, 0) (7, 3) (9, 9) (4, 4) (8, 8) (9, 0) (4, 7) (4, 1) (6, 6) (7, 7) (7, 7) (8, 8) (3, 4) (3, 7) (7, 7) (2, 2) (5, 5) (8, 8) (0, 2) (8, 8) (4, 2) (2, 4) (8, 7) (1, 1) (7, 7) (2, 2) (6, 6) (9, 9) (1, 1) (2, 0) (0, 0) (1, 0) (0, 8) (0, 0) (7, 7) (6, 6) (9, 9) (6, 6) (5, 5) (3, 4) (5, 7) (4, 0) (1, 1) (1, 1) (8, 8) (7, 7) (1, 1) (3, 4) (2, 4) (6, 6) (0, 0) (2, 4) (9, 9) (8, 8) (5, 5) (3, 0) (9, 9) (0, 8) (0, 8) (1, 9) (3, 6) (8, 9) (9, 9) (7, 7) (0, 0) (9, 9) (2, 4) (3, 3) (3, 3) (1, 8) (3, 5) (0, 0) (5, 5) (3, 2) (6, 6) (4, 2) (2, 5) (6, 5) (3, 4) (5, 2) (0, 0) (4, 6) (9, 9) (2, 8) (1, 8) (3, 2) (6, 6) (7, 7) (4, 7) (8, 8) (0, 0) (7, 7) (1, 1) (4, 2) (3, 0) (3, 3) (2, 2) (4, 4) (3, 6) (4, 7) (9, 9) (9, 9) (0, 0) (9, 9) (8, 8) (0, 0) (0, 0) (0, 8) (9, 9) (8, 8) (5, 3) (2, 3) (6, 4) (1, 1) (0, 8) (9, 9) (8, 0) (8, 8) (0, 0) (7, 7) (6, 6) (1, 8) (1, 0) (5, 5) (9, 9) (1, 1) (4, 5) (3, 3) (7, 7) (9, 1) (8, 8) (7, 4) (7, 9) (7, 4) (7, 7) (1, 1) (7, 7) (1, 9) (1, 9) (0, 8) (2, 0) (3, 9) (3, 9) (3, 3) (9, 9) (5, 7) (1, 3) (1, 1) (0, 0) (6, 6) (3, 6) (2, 4) (4, 4) (7, 7) (7, 4) (9, 9) (8, 8) (9, 1) (1, 1) (8, 8) (8, 8) (1, 1) (5, 3) (4, 4) (4, 4) (4, 3) (1, 1) (8, 8) (0, 0) (2, 2) (6, 8) (1, 4) (2, 3) (6, 1) (2, 7) (2, 7) (1, 1) (1, 8) (8, 0) (0, 0) (6, 6) (1, 3) (7, 7) (8, 8) (2, 3) (8, 8) (1, 3) (0, 3) (3, 3) (1, 1) (5, 5) (0, 0) (5, 5) (4, 4) (9, 9) (1, 1) (1, 1) (2, 2) (6, 6) (8, 9) (2, 2) (0, 9) (5, 5) (8, 8) (5, 8) (8, 0) (9, 8) (5, 5) (8, 8) (6, 6) (0, 8) (6, 4) (6, 6) (8, 2) (0, 7) (4, 4) (2, 2) (1, 1) (3, 3) (7, 5) (3, 3) (8, 8) (6, 6) (4, 6) (5, 2) (6, 3) (1, 1) (5, 5) (6, 6) (7, 8) (2, 9) (9, 9) (3, 3) (7, 3) (7, 7) (5, 5) (6, 6) (8, 8) (4, 7) (0, 0) (6, 3) (4, 7) (1, 1) (6, 6) (5, 5) (9, 9) (6, 4) (5, 3) (6, 4) (8, 4) (3, 3) (0, 3) (2, 2) (1, 1) (6, 5) (9, 9) (7, 7) (5, 5) (4, 3) (6, 5) (6, 6) (1, 8) (9, 9) (2, 4) (9, 9) (6, 6) (9, 9) (0, 0) (2, 2) (5, 5) (3, 3) (7, 7) (6, 3) (7, 7) (5, 4) (0, 6) (5, 5) (6, 6) (0, 3) (6, 6) (4, 3) (7, 7) (4, 4) (1, 1) (5, 5) (6, 6) (9, 9) (2, 3) (5, 3) (1, 9) (6, 6) (7, 7) (1, 1) (7, 2) (7, 7) (5, 5) (6, 6) (8, 8) (2, 2) (7, 7) (2, 0) (0, 3) (1, 8) (0, 0) (3, 9) (4, 4) (6, 6) (9, 9) (9, 9) (3, 5) (6, 6) (4, 6) (5, 5) (5, 2) (3, 5) (2, 2) (1, 1) (6, 6) (8, 0) (2, 2) (1, 1) (0, 0) (7, 7) (8, 8) (1, 1) (3, 3) (9, 2) (9, 9) (8, 1) (2, 2) (9, 9) (7, 4) (3, 3) (5, 5) (0, 0) (4, 7) (6, 6) (4, 9) (8, 8) (8, 8) (8, 8) (4, 2) (5, 3) (5, 9) (2, 4) (5, 7) (0, 3) (3, 3) (3, 6) (8, 1) (2, 0) (2, 0) (4, 3) (1, 8) (7, 7) (7, 2) (5, 3) (0, 3) (5, 5) (7, 4) (5, 4) (4, 4) (4, 4) (5, 3) (2, 4) (0, 2) (1, 1) (7, 7) (4, 3) (0, 0) (5, 4) (7, 5) (8, 0) (8, 7) (5, 5) (7, 7) (1, 1) (7, 4) (5, 4) (9, 9) (2, 5) (1, 1) (3, 5) (1, 1) (1, 1) (1, 1) (8, 2) (3, 3) (2, 3) (9, 9) (3, 3) (2, 2) (5, 3) (8, 9) (3, 2) (0, 0) (7, 7) (9, 9) (8, 0) (0, 0) (2, 5) (5, 6) (2, 6) (7, 2) (2, 4) (8, 0) (7, 7) (0, 8) (0, 0) (5, 2) (0, 0) (1, 1) (5, 5) (1, 1) (1, 1) (4, 4) (2, 2) (3, 5) (8, 8) (7, 7) (3, 4) (1, 1) (7, 5) (4, 2) (8, 8) (1, 1) (4, 4) (4, 2) (6, 6) (6, 6) (5, 5) (0, 0) (4, 7) (4, 3) (0, 0) (8, 8) (0, 0) (4, 6) (6, 6) (0, 0) (7, 7) (5, 7) (8, 8) (6, 6) (3, 8) (1, 1) (6, 6) (6, 3) (0, 3) (0, 0) (2, 2) (1, 1) (5, 5) (6, 3) (7, 7) (7, 7) (5, 3) (5, 3) (2, 6) (1, 1) (8, 8) (4, 4) (9, 7) (1, 1) (5, 6) (6, 6) (1, 1) (8, 8) (6, 6) (9, 9) (5, 3) (7, 7) (6, 5) (4, 6) (2, 2) (1, 1) (1, 1) (2, 2) (3, 3) (0, 0) (1, 1) (2, 6) (3, 2) (6, 6) (3, 7) (0, 3) (0, 8) (2, 4) (3, 0) (0, 9) (4, 4) (1, 1) (1, 9) (7, 7) (5, 7) (5, 2) (4, 4) (1, 1) (7, 7) (0, 2) (7, 7) (3, 5) (6, 6) (2, 3) (3, 5) (8, 7) (1, 1) (4, 4) (4, 3) (1, 1) (2, 8) (2, 2) (2, 2) (7, 9) (3, 4) (8, 8) (2, 2) (1, 3) (0, 0) (5, 5) (0, 0) (2, 8) (8, 8) (7, 9) (5, 3) (9, 4) (5, 0) (9, 9) (3, 3) (1, 1) (4, 4) (6, 6) (1, 1) (5, 5) (0, 0) (0, 3) (8, 8) (3, 2) (1, 1) (9, 8) (0, 9) (3, 4) (7, 2) (6, 6) (5, 5) (1, 1) (8, 1) (1, 0) (4, 4) (6, 6) (6, 2) (3, 7) (5, 2) (4, 2) (1, 1) (3, 3) (7, 4) (7, 7) (9, 9) (2, 4) (4, 4) (4, 4) (9, 1) (4, 4) (2, 2) (6, 6) (3, 8) (4, 4) (7, 5) (8, 8) (1, 1) (2, 4) (4, 4) (0, 0) (5, 3) (2, 5) (2, 2) (3, 6) (6, 8) (3, 3) (1, 9) (1, 1) (9, 9) (3, 4) (8, 0) (8, 8) (2, 4) (4, 4) (5, 7) (2, 5) (5, 3) (8, 8) (5, 6) (0, 0) (0, 0) (6, 6) (6, 3) (4, 7) (1, 1) (7, 5) (9, 1) (7, 7) (6, 6) (2, 2) (2, 2) (5, 5) (8, 8) (2, 3) (6, 6) (0, 0) (7, 7) (3, 3) (8, 2) (5, 5) (4, 9) (8, 8) (7, 7) (6, 4) (3, 7) (2, 7) (6, 6) (0, 0) (6, 5) (2, 4) (2, 2) (8, 0) (3, 5) (4, 4) (3, 2) (7, 2) (3, 4) (8, 7) (8, 8) (6, 8) (5, 5) (9, 9) (5, 3) (6, 6) (8, 9) (6, 6) (6, 6) (4, 7) (5, 5) (7, 3) (3, 5) (4, 4) (9, 9) (6, 6) (5, 2) (8, 4) (7, 7) (2, 3) (1, 1) (3, 6) (8, 8) (1, 1) (8, 8) (7, 7) (6, 3) (5, 5) (6, 6) (5, 5) (2, 0) (5, 5) (4, 4) (9, 9) (4, 2) (5, 3) (1, 1) (6, 3) (3, 7) (9, 9) (5, 5) (8, 3) (4, 5) (1, 1) (3, 5) (6, 1) (2, 6) (2, 2) (6, 6) (1, 1) (1, 1) (8, 1) (6, 6) (8, 8) (4, 5) (2, 7) (4, 7) (4, 4) (2, 4) (0, 7) (8, 6) (3, 4) (2, 4) (1, 1) (7, 7) (0, 2) (1, 1) (4, 5) (7, 7) (7, 7) (0, 0) (3, 4) (8, 8) (6, 6) (9, 9) (1, 1) (9, 5) (7, 7) (3, 7) (4, 4) (0, 0) (2, 0) (4, 4) (1, 1) (4, 6) (3, 2) (0, 2) (5, 5) (1, 1) (2, 7) (4, 8) (3, 9) (1, 1) (2, 2) (6, 6) (1, 5) (6, 6) (8, 8) (5, 5) (3, 3) (3, 3) (5, 5) (4, 5) (6, 6) (6, 6) (3, 0) (5, 4) (3, 4) (4, 2) (5, 5) (0, 0) (2, 2) (2, 7) (0, 0) (7, 4) (3, 3) (0, 2) (8, 8) (8, 8) (8, 8) (1, 9) (7, 7) (1, 9) (7, 9) (1, 1) (5, 5) (3, 4) (2, 5) (7, 7) (8, 8) (8, 8) (0, 1) (4, 4) (6, 5) (8, 8) (6, 4) (5, 2) (5, 2) (3, 0) (3, 3) (6, 6) (3, 3) (2, 3) (6, 6) (1, 1) (1, 0) (3, 2) (2, 0) (5, 5) (4, 7) (6, 6) (8, 8) (5, 7) (4, 4) (1, 1) (9, 9) (8, 1) (7, 9) (9, 1) (9, 9) (7, 7) (2, 3) (6, 3) (2, 5) (0, 5) (8, 8) (1, 3) (6, 6) (0, 0) (3, 5) (2, 2) (4, 4) (4, 7) (2, 2) (8, 8) (1, 1) (7, 5) (3, 5) (7, 5) (2, 4) (3, 6) (1, 1) (1, 1) (8, 8) (0, 2) (1, 1) (5, 3) (4, 4) (8, 8) (8, 8) (0, 0) (1, 1) (5, 5) (5, 5) (0, 0) (6, 4) (5, 5) (3, 5) (5, 4) (8, 6) (2, 4) (0, 0) (2, 6) (7, 7) (3, 3) (4, 4) (8, 9) (7, 4) (2, 8) (1, 1) (7, 7) (1, 8) (0, 8) (7, 4) (8, 8) (0, 9) (6, 7) (2, 3) (6, 6) (4, 1) (4, 0) (2, 3) (2, 3) (5, 3) (8, 2) (1, 1) (6, 6) (9, 9) (3, 2) (8, 8) (7, 4) (8, 8) (5, 3) (7, 7) (2, 2) (9, 9) (2, 4) (6, 6) (8, 0) (3, 3) (5, 5) (8, 8) (8, 8) (3, 6) (6, 6) (4, 3) (3, 2) (6, 6) (7, 7) (7, 9) (9, 9) (0, 0) (7, 7) (7, 7) (2, 0) (5, 5) (6, 2) (6, 2) (4, 6) (0, 1) (8, 8) (4, 4) (0, 0) (5, 5) (0, 2) (5, 3) (8, 8) (5, 4) (5, 5) (4, 4) (8, 8) (0, 0) (2, 2) (3, 7) (2, 6) (4, 4) (4, 2) (0, 0) (8, 0) (2, 2) (5, 8) (9, 9) (7, 2) (4, 7) (9, 9) (6, 6) (2, 2) (6, 6) (9, 0) (0, 0) (7, 7) (0, 0) (6, 0) (5, 3) (1, 1) (1, 1) (9, 6) (3, 6) (5, 5) (9, 9) (4, 4) (5, 5) (5, 7) (1, 1) (5, 5) (3, 6) (4, 9) (4, 0) (7, 2) (6, 4) (6, 6) (5, 3) (7, 7) (1, 9) (6, 3) (8, 8) (0, 1) (2, 2) (3, 5) (2, 5) (2, 8) (3, 3) (6, 6) (9, 9) (2, 3) (8, 0) (0, 0) (7, 7) (8, 8) (4, 2) (0, 0) (0, 1) (1, 1) (1, 6) (6, 1) (3, 5) (0, 0) (8, 8) (4, 2) (7, 7) (3, 3) (9, 9) (5, 5) (3, 5) (9, 2) (6, 6) (8, 8) (4, 2) (8, 8) (2, 2) (3, 2) (5, 4) (9, 9) (4, 4) (9, 9) (7, 9) (1, 1) (5, 5) (8, 0) (9, 9) (0, 0) (7, 7) (9, 9) (3, 5) (3, 3) (3, 6) (1, 1) (2, 5) (0, 0) (6, 8) (8, 8) (0, 0) (5, 0) (5, 3) (6, 6) (9, 9) (0, 0) (7, 5) (9, 9) (9, 9) (1, 1) (1, 1) (2, 8) (9, 3) (8, 0) (4, 5) (9, 9) (6, 4) (8, 8) (9, 9) (4, 3) (1, 1) (3, 2) (2, 3) (5, 5) (7, 2) (8, 3) (1, 1) (9, 1) (5, 2) (3, 3) (3, 3) (1, 1) (9, 1) (6, 3) (5, 4) (6, 6) (9, 9) (0, 0) (8, 8) (0, 8) (2, 4) (4, 0) (2, 2) (5, 3) (4, 2) (4, 4) (8, 8) (8, 0) (9, 9) (1, 1) (8, 9) (0, 0) (6, 6) (6, 6) (3, 4) (6, 6) (1, 1) (1, 1) (2, 5) (0, 0) (4, 4) (2, 0) (4, 4) (3, 4) (9, 9) (7, 7) (7, 4) (1, 5) (2, 3) (6, 6) (6, 3) (6, 6) (7, 7) (6, 2) (8, 8) (9, 9) (9, 8) (3, 4) (2, 2) (8, 8) (0, 9) (4, 7) (0, 0) (6, 1) (5, 2) (9, 9) (8, 8) (0, 2) (1, 9) (3, 3) (2, 2) (1, 1) (5, 3) (0, 0) (6, 1) (3, 4) (2, 2) (4, 6) (6, 6) (4, 2) (0, 3) (4, 4) (0, 0) (0, 9) (9, 9) (8, 8) (1, 9) (3, 3) (1, 4) (5, 6) (5, 5) (5, 3) (4, 5) (6, 5) (7, 7) (3, 8) (3, 4) (4, 4) (1, 8) (2, 8) (1, 1) (1, 1) (9, 9) (8, 8) (4, 4) (9, 9) (1, 1) (3, 5) (7, 7) (7, 7) (2, 0) (8, 8) (7, 7) (8, 8) (4, 4) (8, 1) (3, 4) (1, 1) (8, 9) (2, 2) (4, 4) (2, 0) (1, 8) (7, 5) (7, 7) (3, 3) (7, 7) (9, 9) (6, 6) (5, 0) (9, 9) (8, 0) (1, 1) (9, 9) (1, 9) (7, 7) (7, 7) (0, 0) (6, 6) (3, 3) (7, 7) (5, 6) (1, 1) (3, 6) (4, 6) (8, 8) (8, 2) (9, 1) (3, 3) (9, 9) (1, 1) (4, 4) (5, 7) (5, 5) (9, 3) (2, 2) (0, 0) (7, 7) (6, 6) (6, 5) (5, 5) (8, 8) (4, 4) (4, 0) (5, 4) (5, 3) (2, 5) (4, 4) (4, 2) (1, 1) (1, 7) (0, 0) (1, 4) (3, 3) (7, 7) (4, 8) (7, 7) (7, 9) (6, 6) (5, 2) (3, 4) (8, 8) (2, 6) (1, 1) (6, 0) (4, 5) (4, 4) (3, 4) (0, 0) (3, 5) (7, 7) (2, 7) (6, 6) (6, 6) (0, 2) (6, 6) (6, 6) (4, 4) (4, 6) (8, 8) (1, 1) (5, 7) (7, 7) (5, 7) (5, 4) (0, 0) (7, 7) (7, 7) (1, 1) (1, 1) (9, 9) (9, 3) (1, 1) (4, 4) (3, 6) (3, 5) (8, 8) (3, 3) (6, 2) (8, 0) (6, 6) (6, 6) (8, 8) (7, 3) (4, 4) (3, 7) (8, 8) (1, 1) (7, 7) (7, 7) (3, 6) (4, 4) (0, 1) (9, 9) (8, 0) (0, 3) (1, 1) (3, 5) (5, 5) (2, 0) (6, 6) (7, 4) (3, 5) (0, 8) (1, 1) (9, 9) (1, 1) (8, 1) (4, 3) (2, 2) (4, 2) (2, 4) (6, 6) (7, 7) (4, 4) (1, 1) (7, 7) (5, 5) (4, 4) (1, 1) (9, 9) (3, 3) (1, 2) (0, 0) (3, 5) (6, 0) (0, 0) (7, 7) (0, 8) (9, 9) (7, 7) (4, 2) (8, 8) (3, 7) (4, 4) (1, 1) (1, 8) (7, 8) (4, 4) (0, 0) (5, 3) (5, 4) (5, 5) (3, 3) (9, 9) (2, 2) (2, 3) (7, 7) (8, 0) (5, 6) (6, 6) (4, 4) (9, 9) (3, 3) (9, 9) (4, 4) (8, 8) (9, 3) (3, 5) (8, 9) (4, 7) (1, 1) (5, 0) (3, 3) (6, 2) (4, 4) (6, 6) (9, 9) (5, 2) (5, 5) (7, 5) (4, 4) (9, 9) (5, 3) (3, 3) (5, 4) (3, 2) (0, 0) (5, 5) (5, 3) (6, 3) (7, 7) (3, 5) (2, 4) (4, 2) (4, 9) (6, 6) (9, 9) (5, 5) (0, 0) (6, 4) (0, 3) (2, 0) (9, 9) (5, 5) (7, 7) (4, 4) (2, 3) (7, 7) (4, 7) (7, 7) (1, 8) (5, 5) (8, 8) (2, 4) (9, 9) (7, 4) (6, 6) (7, 7) (3, 3) (7, 5) (2, 9) (7, 7) (4, 3) (4, 4) (5, 5) (6, 6) (7, 7) (8, 4) (4, 4) (5, 7) (3, 6) (1, 1) (6, 6) (8, 4) (5, 6) (0, 7) (6, 6) (3, 6) (4, 4) (9, 9) (7, 7) (8, 1) (6, 2) (8, 8) (6, 6) (7, 7) (2, 4) (7, 3) (8, 0) (1, 6) (9, 7) (9, 8) (4, 4) (2, 8) (2, 2) (8, 0) (8, 0) (7, 7) (6, 2) (2, 3) (8, 8) (2, 2) (0, 2) (3, 5) (1, 8) (1, 1) (2, 2) (6, 6) (3, 5) (4, 7) (4, 2) (1, 9) (4, 7) (3, 3) (6, 6) (6, 8) (4, 4) (8, 9) (3, 3) (9, 9) (3, 8) (0, 8) (0, 5) (4, 2) (8, 8) (7, 7) (0, 0) (7, 7) (1, 8) (6, 6) (2, 3) (9, 9) (7, 7) (6, 6) (0, 7) (9, 9) (9, 9) (3, 3) (6, 6) (8, 8) (3, 3) (8, 8) (4, 4) (0, 2) (4, 4) (9, 9) (6, 6) (2, 5) (9, 9) (8, 8) (4, 2) (9, 9) (8, 1) (8, 8) (8, 8) (8, 3) (3, 5) (0, 8) (2, 7) (8, 3) (2, 2) (0, 0) (3, 2) (3, 5) (6, 2) (4, 9) (3, 3) (0, 0) (6, 6) (9, 1) (9, 9) (9, 9) (5, 5) (0, 0) (9, 9) (5, 6) (2, 0) (2, 2) (8, 3) (0, 0) (6, 6) (6, 3) (1, 1) (0, 0) (9, 9) (0, 0) (0, 0) (9, 9) (8, 0) (6, 6) (7, 7) (0, 0) (2, 2) (0, 4) (5, 5) (1, 9) (9, 1) (7, 7) (5, 5) (4, 4) (2, 4) (4, 7) (7, 4) (6, 2) (2, 2) (7, 7) (4, 2) (2, 5) (3, 2) (7, 2) (4, 2) (8, 1) (3, 2) (7, 7) (2, 2) (2, 2) (9, 8) (8, 0) (4, 4) (4, 4) (8, 0) (8, 8) (0, 0) (9, 9) (7, 9) (4, 4) (5, 5) (0, 1) (8, 8) (0, 0) (5, 5) (0, 0) (2, 2) (6, 6) (2, 6) (3, 3) (2, 7) (9, 9) (0, 8) (0, 0) (5, 3) (4, 2) (3, 6) (9, 9) (9, 8) (0, 0) (1, 1) (5, 5) (8, 8) (6, 6) (5, 2) (7, 3) (5, 6) (3, 5) (0, 0) (0, 0) (4, 4) (2, 6) (6, 6) (1, 1) (7, 7) (5, 3) (6, 6) (0, 0) (8, 8) (6, 6) (2, 3) (0, 8) (5, 6) (7, 7) (8, 8) (1, 1) (7, 7) (6, 5) (1, 8) (9, 9) (0, 2) (3, 2) (9, 9) (5, 5) (6, 5) (4, 4) (8, 8) (8, 9) (9, 6) (6, 2) (2, 6) (7, 7) (4, 5) (8, 9) (3, 9) (5, 3) (5, 6) (3, 5) (9, 9) (9, 2) (9, 3) (7, 7) (7, 7) (2, 2) (9, 9) (4, 4) (4, 2) (7, 7) (3, 3) (5, 3) (4, 5) (4, 7) (4, 4) (5, 4) (9, 9) (7, 7) (4, 1) (6, 6) (1, 1) (8, 8) (1, 1) (9, 9) (2, 6) (6, 4) (6, 4) (6, 6) (9, 3) (3, 3) (5, 5) (2, 4) (7, 7) (7, 5) (4, 3) (9, 9) (8, 0) (4, 4) (7, 1) (7, 3) (7, 7) (6, 6) (3, 5) (0, 6) (7, 7) (1, 8) (7, 5) (4, 8) (3, 3) (0, 0) (5, 6) (7, 3) (5, 6) (7, 7) (3, 7) (5, 5) (1, 1) (4, 4) (4, 4) (2, 2) (1, 1) (7, 3) (9, 3) (3, 4) (1, 1) (3, 9) (0, 4) (1, 1) (9, 8) (7, 9) (0, 0) (9, 9) (3, 2) (8, 8) (9, 1) (6, 6) (3, 6) (1, 1) (1, 9) (0, 2) (6, 6) (3, 2) (4, 2) (1, 1) (3, 3) (7, 2) (9, 8) (4, 4) (3, 5) (9, 9) (3, 3) (7, 7) (4, 5) (0, 0) (9, 9) (1, 1) (5, 3) (1, 0) (8, 8) (8, 7) (9, 9) (5, 2) (0, 0) (4, 5) (5, 5) (1, 1) (8, 3) (0, 0) (8, 1) (0, 2) (5, 4) (7, 7) (9, 9) (7, 4) (6, 6) (6, 9) (1, 8) (4, 4) (5, 3) (7, 7) (9, 9) (6, 2) (6, 6) (1, 1) (3, 3) (4, 2) (5, 5) (4, 7) (8, 8) (3, 4) (3, 3) (6, 6) (0, 0) (7, 7) (7, 7) (6, 2) (8, 8) (4, 2) (1, 1) (2, 2) (7, 7) (8, 8) (7, 5) (7, 7) (3, 9) (8, 8) (6, 3) (0, 0) (7, 9) (7, 7) (7, 5) (9, 9) (8, 8) (2, 2) (3, 2) (4, 4) (4, 4) (9, 9) (0, 0) (9, 9) (7, 2) (6, 6) (4, 2) (0, 1) (0, 0) (4, 4) (0, 4) (0, 4) (9, 9) (9, 9) (3, 3) (1, 1) (3, 5) (4, 0) (7, 7) (8, 8) (0, 4) (4, 5) (1, 9) (7, 7) (2, 3) (7, 7) (4, 5) (5, 7) (7, 7) (5, 5) (0, 0) (5, 6) (5, 7) (7, 7) (7, 7) (4, 2) (2, 6) (5, 7) (2, 5) (3, 3) (1, 6) (0, 8) (1, 8) (9, 3) (7, 6) (2, 3) (0, 7) (1, 1) (9, 9) (4, 4) (3, 9) (2, 6) (6, 6) (9, 7) (8, 1) (3, 3) (6, 6) (5, 5) (6, 6) (7, 7) (2, 6) (0, 0) (9, 9) (2, 0) (4, 7) (3, 5) (5, 6) (1, 1) (7, 7) (6, 6) (4, 4) (6, 9) (9, 9) (5, 5) (0, 0) (7, 7) (7, 9) (8, 9) (6, 6) (9, 9) (6, 6) (0, 8) (3, 3) (2, 0) (8, 0) (0, 2) (2, 2) (0, 3) (5, 6) (6, 5) (1, 1) (0, 5) (4, 6) (6, 4) (2, 2) (6, 6) (6, 4) (9, 9) (5, 5) (2, 2) (2, 2) (3, 3) (1, 1) (8, 6) (4, 4) (9, 1) (3, 2) (0, 0) (2, 5) (6, 2) (1, 1) (4, 4) (8, 0) (4, 4) (9, 9) (4, 4) (9, 9) (5, 0) (4, 3) (5, 5) (0, 0) (1, 1) (2, 2) (4, 4) (6, 6) (1, 1) (4, 9) (0, 0) (6, 6) (1, 1) (5, 0) (0, 2) (1, 1) (3, 2) (5, 5) (7, 7) (3, 3) (5, 5) (1, 1) (1, 1) (1, 1) (0, 0) (8, 8) (0, 8) (4, 4) (2, 4) (7, 7) (6, 6) (3, 9) (1, 1) (1, 8) (6, 6) (1, 1) (2, 6) (2, 7) (1, 9) (6, 6) (2, 0) (0, 0) (3, 3) (4, 4) (6, 6) (1, 1) (8, 2) (4, 8) (1, 1) (7, 7) (5, 2) (4, 4) (8, 7) (8, 8) (1, 9) (7, 9) (1, 1) (0, 1) (5, 3) (9, 9) (0, 0) (5, 3) (1, 1) (3, 8) (3, 3) (1, 1) (8, 8) (1, 1) (6, 4) (1, 1) (3, 3) (7, 7) (0, 0) (0, 0) (8, 7) (0, 0) (3, 3) (9, 9) (5, 3) (4, 4) (0, 1) (7, 7) (2, 2) (6, 6) (8, 0) (0, 4) (0, 2) (8, 8) (9, 9) (4, 4) (6, 6) (2, 5) (1, 1) (3, 2) (2, 7) (2, 5) (6, 2) (1, 1) (4, 3) (2, 5) (5, 5) (0, 0) (0, 3) (8, 1) (0, 3) (5, 3) (4, 4) (3, 5) (3, 5) (2, 2) (0, 8) (0, 0) (3, 3) (1, 6) (6, 8) (4, 2) (2, 5) (2, 4) (2, 2) (5, 5) (9, 7) (6, 6) (0, 2) (7, 7) (5, 6) (9, 9) (3, 3) (6, 5) (5, 3) (9, 9) (0, 0) (5, 2) (4, 2) (0, 0) (5, 5) (3, 6) (6, 6) (2, 2) (5, 5) (3, 2) (1, 1) (8, 4) (4, 2) (0, 0) (1, 1) (8, 0) (4, 2) (8, 8) (8, 8) (8, 8) (4, 4) (5, 4) (6, 4) (4, 4) (4, 7) (9, 9) (1, 1) (2, 2) (8, 8) (4, 2) (7, 7) (5, 7) (7, 7) (1, 1) (8, 8) (3, 7) (2, 4) (9, 9) (4, 7) (6, 6) (2, 5) (1, 1) (6, 6) (2, 1) (2, 2) (2, 2) (4, 6) (3, 3) (6, 2) (8, 8) (9, 9) (9, 9) (5, 5) (6, 6) (5, 3) (2, 2) (4, 4) (7, 7) (3, 3) (4, 7) (8, 8) (3, 8) (0, 9) (7, 7) (4, 4) (3, 3) (2, 8) (3, 3) (7, 0) (4, 4) (9, 9) (4, 4) (3, 3) (1, 1) (0, 0) (5, 5) (6, 6) (4, 3) (9, 9) (2, 2) (4, 3) (4, 7) (0, 0) (8, 8) (7, 5) (6, 6) (2, 0) (6, 3) (4, 4) (0, 0) (4, 2) (3, 2) (0, 0) (9, 9) (7, 8) (1, 1) (2, 3) (9, 9) (6, 4) (1, 5) (7, 2) (9, 3) (8, 8) (3, 3) (7, 7) (0, 8) (0, 8) (7, 7) (5, 2) (1, 1) (0, 0) (2, 2) (6, 6) (4, 7) (8, 8) (3, 4) (5, 5) (0, 2) (5, 5) (6, 4) (8, 7) (7, 7) (9, 9) (2, 2) (1, 0) (2, 1) (1, 1) (0, 3) (9, 3) (7, 7) (0, 0) (7, 7) (7, 7) (7, 7) (4, 0) (1, 1) (5, 5) (5, 5) (1, 1) (3, 5) (6, 6) (5, 5) (1, 1) (6, 3) (1, 1) (9, 9) (4, 3) (3, 3) (8, 1) (5, 5) (7, 7) (2, 2) (6, 6) (5, 5) (0, 0) (9, 9) (6, 3) (4, 4) (8, 8) (1, 9) (6, 6) (2, 2) (6, 6) (0, 0) (5, 7) (1, 1) (6, 6) (2, 6) (6, 6) (3, 5) (4, 4) (9, 9) (5, 5) (4, 4) (7, 7) (3, 3) (0, 0) (1, 7) (2, 3) (6, 3) (8, 8) (7, 7) (2, 2) (9, 2) (9, 9) (6, 6) (0, 8) (8, 8) (7, 8) (0, 0) (0, 0) (0, 0) (3, 6) (0, 0) (9, 3) (0, 0) (7, 5) (9, 9) (6, 6) (0, 0) (1, 1) (6, 4) (4, 6) (4, 2) (5, 5) (2, 2) (8, 2) (4, 7) (9, 9) (8, 8) (0, 3) (0, 8) (4, 7) (6, 3) (0, 0) (4, 4) (8, 8) (2, 3) (1, 1) (3, 8) (2, 6) (9, 9) (6, 6) (2, 2) (7, 7) (2, 2) (3, 3) (8, 8) (0, 0) (2, 7) (7, 4) (6, 6) (9, 9) (1, 1) (9, 8) (0, 0) (9, 9) (9, 1) (8, 0) (8, 8) (5, 5) (7, 7) (2, 0) (5, 5) (4, 9) (3, 5) (7, 5) (2, 2) (3, 5) (4, 3) (3, 3) (1, 1) (8, 8) (7, 7) (2, 4) (5, 4) (7, 7) (1, 1) (4, 5) (7, 7) (2, 6) (0, 1) (0, 0) (3, 5) (9, 9) (7, 7) (2, 0) (7, 7) (8, 8) (7, 7) (2, 2) (5, 2) (1, 1) (5, 7) (7, 4) (1, 7) (9, 9) (4, 8) (9, 9) (1, 9) (0, 0) (6, 5) (4, 4) (1, 1) (0, 0) (8, 8) (3, 3) (9, 9) (4, 4) (2, 2) (7, 2) (9, 9) (2, 5) (8, 0) (5, 4) (0, 0) (9, 9) (4, 2) (6, 6) (3, 3) (6, 8) (4, 3) (3, 5) (1, 1) (5, 5) (1, 6) (6, 6) (6, 6) (1, 1) (1, 1) (9, 9) (9, 0) (4, 3) (2, 2) (8, 8) (4, 7) (4, 4) (4, 4) (8, 8) (9, 1) (7, 7) (2, 2) (2, 4) (4, 2) (2, 4) (6, 6) (2, 2) (9, 9) (1, 1) (4, 2) (1, 1) (7, 7) (3, 3) (1, 2) (4, 2) (5, 5) (1, 1) (8, 8) (7, 7) (0, 8) (1, 1) (8, 8) (9, 9) (2, 7) (2, 2) (1, 1) (4, 3) (7, 3) (7, 7) (7, 7) (1, 8) (0, 0) (3, 3) (0, 9) (3, 3) (6, 2) (1, 1) (4, 4) (1, 1) (6, 6) (6, 6) (8, 7) (4, 3) (2, 7) (7, 6) (7, 7) (3, 4) (6, 2) (5, 2) (0, 2) (9, 9) (8, 8) (6, 4) (7, 7) (1, 1) (8, 0) (2, 0) (8, 8) (0, 2) (2, 2) (4, 3) (8, 9) (2, 2) (2, 2) (5, 5) (9, 9) (5, 3) (1, 7) (1, 1) (1, 9) (5, 7) (6, 3) (9, 1) (5, 5) (3, 3) (6, 6) (0, 0) (3, 5) (3, 3) (1, 1) (4, 4) (8, 8) (0, 0) (9, 9) (4, 4) (5, 4) (8, 8) (0, 8) (1, 1) (5, 5) (6, 6) (2, 9) (3, 2) (6, 4) (3, 3) (3, 3) (5, 3) (8, 8) (3, 3) (9, 9) (7, 7) (8, 8) (0, 8) (1, 4) (5, 5) (1, 3) (5, 3) (0, 0) (9, 9) (4, 2) (0, 5) (8, 2) (3, 3) (0, 3) (3, 5) (3, 2) (4, 4) (6, 6) (4, 9) (0, 0) (6, 6) (9, 8) (6, 8) (6, 5) (6, 6) (9, 1) (1, 1) (5, 5) (2, 2) (3, 3) (0, 0) (1, 1) (3, 3) (7, 4) (3, 5) (2, 5) (0, 0) (8, 8) (4, 4) (2, 9) (5, 5) (9, 9) (1, 1) (1, 9) (1, 1) (5, 6) (0, 0) (5, 5) (9, 9) (6, 3) (8, 4) (5, 6) (0, 0) (9, 9) (6, 6) (0, 0) (4, 4) (5, 5) (2, 2) (6, 6) (6, 6) (6, 3) (6, 6) (3, 5) (9, 1) (4, 2) (1, 1) (1, 6) (3, 3) (0, 0) (8, 6) (5, 5) (8, 1) (4, 3) (1, 1) (0, 0) (7, 7) (3, 1) (8, 8) (2, 7) (3, 2) (1, 1) (2, 3) (6, 6) (2, 2) (7, 5) (1, 9) (3, 7) (6, 3) (3, 6) (4, 2) (7, 7) (0, 0) (1, 1) (7, 7) (4, 7) (0, 7) (6, 3) (0, 3) (8, 0) (9, 9) (5, 6) (4, 4) (1, 8) (8, 7) (8, 1) (3, 5) (8, 8) (7, 4) (0, 2) (4, 4) (1, 9) (9, 9) (0, 3) (4, 5) (7, 7) (6, 4) (2, 0) (1, 1) (7, 7) (8, 9) (7, 7) (6, 6) (7, 2) (5, 5) (6, 2) (7, 7) (9, 9) (2, 2) (8, 1) (9, 8) (1, 1) (2, 3) (7, 7) (0, 3) (7, 7) (9, 2) (2, 2) (3, 3) (9, 9) (8, 8) (2, 6) (3, 5) (8, 8) (0, 2) (1, 1) (5, 2) (5, 5) (6, 4) (3, 7) (9, 1) (0, 0) (0, 0) (2, 9) (8, 8) (5, 2) (7, 7) (9, 9) (9, 1) (0, 0) (5, 5) (0, 0) (3, 3) (8, 0) (1, 1) (5, 5) (5, 3) (5, 5) (0, 1) (5, 3) (0, 0) (5, 5) (0, 0) (3, 2) (7, 7) (8, 8) (2, 2) (5, 6) (9, 9) (7, 4) (1, 3) (4, 4) (0, 9) (4, 5) (1, 1) (8, 2) (0, 2) (5, 9) (2, 3) (7, 7) (4, 2) (0, 0) (9, 9) (7, 7) (9, 9) (1, 1) (3, 6) (0, 2) (7, 7) (4, 4) (9, 9) (7, 7) (4, 5) (1, 1) (3, 5) (1, 1) (6, 6) (7, 7) (0, 0) (2, 2) (1, 1) (0, 0) (0, 8) (6, 6) (7, 7) (7, 7) (7, 7) (9, 9) (8, 0) (1, 1) (0, 3) (6, 6) (3, 2) (9, 9) (1, 1) (1, 1) (1, 1) (8, 8) (3, 4) (4, 4) (4, 7) (6, 6) (4, 4) (5, 5) (5, 7) (1, 1) (0, 0) (4, 4) (9, 9) (2, 2) (5, 5) (3, 7) (3, 4) (3, 3) (7, 7) (5, 0) (6, 6) (3, 3) (3, 3) (9, 1) (2, 2) (7, 7) (1, 1) (1, 9) (7, 7) (7, 7) (3, 4) (4, 4) (6, 5) (6, 6) (9, 9) (7, 7) (0, 0) (0, 0) (5, 5) (2, 2) (4, 7) (5, 5) (5, 2) (0, 2) (0, 8) (2, 5) (9, 0) (1, 0) (4, 2) (1, 3) (8, 8) (9, 8) (2, 3) (7, 7) (6, 6) (0, 0) (6, 3) (8, 0) (0, 3) (4, 4) (2, 4) (2, 7) (3, 2) (4, 5) (4, 4) (2, 2) (8, 8) (8, 8) (9, 9) (9, 9) (4, 2) (4, 5) (7, 7) (7, 2) (8, 9) (7, 7) (0, 8) (5, 3) (8, 3) (5, 3) (0, 2) (8, 8) (9, 9) (3, 2) (2, 0) (1, 1) (2, 4) (3, 5) (4, 1) (3, 4) (3, 4) (5, 7) (6, 3) (4, 6) (5, 3) (1, 1) (2, 0) (0, 1) (4, 4) (2, 2) (4, 6) (4, 2) (7, 9) (2, 6) (5, 7) (9, 9) (9, 9) (6, 6) (5, 5) (0, 2) (7, 7) (4, 1) (4, 6) (3, 3) (5, 5) (9, 9) (9, 9) (9, 9) (6, 6) (9, 9) (6, 6) (0, 0) (4, 7) (1, 1) (4, 4) (7, 7) (9, 9) (4, 7) (2, 2) (4, 7) (1, 1) (0, 0) (9, 8) (0, 6) (8, 2) (7, 7) (2, 4) (5, 5) (6, 6) (8, 0) (6, 2) (2, 4) (8, 8) (1, 1) (8, 0) (4, 2) (8, 8) (8, 0) (4, 7) (2, 2) (2, 2) (1, 1) (6, 6) (9, 9) (7, 7) (2, 0) (0, 0) (8, 8) (3, 5) (3, 2) (7, 4) (5, 2) (3, 3) (0, 0) (6, 6) (3, 4) (8, 8) (4, 6) (7, 3) (0, 0) (4, 7) (9, 9) (6, 3) (9, 9) (6, 3) (2, 6) (7, 7) (1, 1) (6, 6) (1, 1) (2, 2) (5, 4) (9, 7) (7, 7) (7, 4) (8, 8) (6, 1) (5, 6) (7, 9) (1, 9) (9, 9) (8, 2) (5, 3) (0, 4) (4, 4) (6, 6) (0, 0) (5, 3) (8, 8) (3, 3) (5, 3) (1, 1) (2, 8) (1, 9) (9, 9) (7, 7) (1, 1) (0, 0) (0, 0) (1, 1) (0, 8) (9, 9) (4, 7) (5, 5) (6, 6) (6, 6) (5, 5) (1, 1) (5, 9) (8, 8) (4, 4) (8, 7) (4, 6) (1, 1) (0, 7) (0, 2) (9, 9) (6, 6) (0, 0) (0, 0) (8, 8) (9, 9) (0, 6) (2, 6) (8, 8) (8, 8) (3, 7) (5, 5) (7, 7) (6, 6) (9, 0) (2, 4) (6, 6) (5, 7) (2, 0) (9, 8) (9, 8) (9, 9) (2, 7) (7, 7) (5, 5) (8, 8) (1, 1) (9, 9) (1, 1) (6, 8) (1, 1) (3, 3) (9, 9) (1, 1) (7, 4) (4, 2) (9, 9) (7, 7) (1, 1) (0, 0) (4, 2) (6, 6) (1, 7) (5, 3) (5, 5) (9, 1) (1, 1) (4, 4) (1, 0) (7, 7) (5, 5) (4, 4) (9, 0) (6, 6) (7, 7) (0, 4) (4, 2) (0, 0) (6, 6) (6, 2) (5, 9) (2, 7) (4, 4) (7, 7) (4, 2) (9, 8) (6, 6) (6, 6) (3, 5) (3, 8) (7, 9) (1, 2) (9, 8) (5, 2) (5, 1) (6, 6) (4, 4) (6, 1) (5, 2) (1, 1) (6, 6) (0, 0) (4, 2) (4, 4) (0, 0) (0, 0) (2, 2) (1, 0) (4, 4) (2, 7) (7, 7) (3, 2) (4, 4) (8, 8) (0, 8) (5, 4) (2, 3) (3, 6) (3, 3) (3, 3) (3, 6) (3, 2) (6, 6) (9, 9) (4, 4) (6, 6) (3, 0) (6, 6) (3, 1) (0, 0) (1, 1) (5, 5) (3, 3) (9, 7) (8, 8) (5, 3) (4, 4) (6, 8) (8, 8) (6, 4) (3, 9) (8, 0) (8, 8) (0, 0) (4, 4) (6, 6) (3, 3) (9, 9) (6, 6) (2, 4) (7, 7) (9, 9) (6, 5) (7, 7) (7, 4) (9, 9) (3, 7) (8, 2) (4, 4) (4, 4) (1, 8) (4, 4) (4, 2) (8, 8) (2, 5) (9, 3) (2, 5) (8, 9) (3, 6) (6, 8) (4, 4) (2, 2) (2, 3) (1, 1) (5, 5) (8, 8) (8, 8) (7, 2) (8, 8) (5, 4) (2, 5) (9, 9) (6, 6) (6, 4) (9, 9) (1, 6) (3, 3) (1, 1) (7, 7) (5, 4) (5, 5) (8, 8) (2, 6) (2, 4) (6, 6) (9, 6) (4, 5) (6, 6) (8, 8) (0, 0) (4, 4) (4, 4) (9, 4) (7, 8) (2, 2) (4, 5) (9, 9) (5, 0) (6, 4) (8, 8) (9, 4) (7, 3) (4, 4) (1, 1) (7, 5) (1, 8) (5, 2) (6, 6) (4, 4) (6, 6) (0, 0) (3, 3) (1, 2) (5, 2) (8, 8) (1, 9) (0, 7) (7, 7) (0, 0) (9, 7) (8, 8) (4, 0) (5, 5) (7, 7) (9, 1) (8, 8) (1, 1) (5, 5) (1, 1) (5, 5) (2, 7) (8, 5) (6, 6) (1, 1) (8, 8) (9, 9) (4, 2) (1, 1) (3, 7) (0, 0) (3, 5) (0, 0) (9, 9) (5, 5) (1, 1) (3, 6) (6, 6) (7, 6) (9, 9) (5, 6) (1, 9) (2, 5) (4, 2) (4, 4) (6, 6) (8, 8) (6, 6) (4, 4) (3, 3) (2, 2) (2, 2) (1, 1) (9, 9) (2, 0) (8, 8) (7, 7) (7, 7) (4, 9) (2, 8) (6, 0) (3, 9) (3, 3) (5, 5) (0, 8) "
          ]
        }
      ],
      "source": [
        "# pair prediction and ground truth\n",
        "for i in zip(y_pred,test_y):\n",
        "  print(i, end=\" \")"
      ]
    },
    {
      "cell_type": "code",
      "execution_count": null,
      "metadata": {
        "id": "k3z4dy6S0dAn",
        "colab": {
          "base_uri": "https://localhost:8080/"
        },
        "outputId": "969355c4-65a5-4c87-bef0-c08e5179c752"
      },
      "outputs": [
        {
          "output_type": "stream",
          "name": "stdout",
          "text": [
            "0.428\n"
          ]
        }
      ],
      "source": [
        "# Error rate\n",
        "from logging import logProcesses\n",
        "Error = round(1 - accuracy_score(test_y, y_pred),3)\n",
        "print(Error)"
      ]
    },
    {
      "cell_type": "markdown",
      "metadata": {
        "id": "x8mJc9E4MBnZ"
      },
      "source": [
        "It's time to understand the final performance of the trained classifier.\n",
        "\n",
        "**Tools**:\n",
        "   * `accuracy_score()`: Accuracy classification score. The set of labels predicted for a sample must exactly match the corresponding set of labels of GT."
      ]
    },
    {
      "cell_type": "code",
      "execution_count": null,
      "metadata": {
        "id": "B_ARZOB5gMqL",
        "colab": {
          "base_uri": "https://localhost:8080/"
        },
        "outputId": "3db5e2ed-eee8-4843-eec9-b8328d11b7bc"
      },
      "outputs": [
        {
          "output_type": "stream",
          "name": "stdout",
          "text": [
            "Final Accuracy: 0.572\n"
          ]
        }
      ],
      "source": [
        "from logging import logProcesses\n",
        "print('Final Accuracy: {:.3f}'.format(accuracy_score(test_y, y_pred)))"
      ]
    },
    {
      "cell_type": "code",
      "source": [
        "# Analyze also the computational load, in terms of time, of the solution\n",
        "# get the end time\n",
        "et = time.time()\n",
        "\n",
        "# get the execution time\n",
        "elapsed_time = et - st\n",
        "print('Execution time:', elapsed_time, 'seconds')\n",
        "print('Execution time:', elapsed_time/60, 'minutes')\n",
        "print('Execution time:', elapsed_time/(60*60), 'hours')"
      ],
      "metadata": {
        "id": "lFMtOvybqXVe",
        "colab": {
          "base_uri": "https://localhost:8080/"
        },
        "outputId": "30441fed-1d1f-4dee-bc57-4355672e2619"
      },
      "execution_count": null,
      "outputs": [
        {
          "output_type": "stream",
          "name": "stdout",
          "text": [
            "Execution time: 16922.37468314171 seconds\n",
            "Execution time: 282.03957805236183 minutes\n",
            "Execution time: 4.70065963420603 hours\n"
          ]
        }
      ]
    },
    {
      "cell_type": "markdown",
      "metadata": {
        "id": "wAbkr3SsOoka"
      },
      "source": [
        "### Confusion matrix\n",
        "\n",
        "We can also compute the confusion matrix to further understand the performance on the trained model.\n",
        "\n",
        "**Tools**:\n",
        "   * `confusion_matrix()`: computes confusion matrix to evaluate the accuracy of a classification.\n",
        "   * `plot_confusion_matrix()`: plots Confusion Matrix (it is deprectaed and will be removed in future versions of the library)."
      ]
    },
    {
      "cell_type": "code",
      "execution_count": null,
      "metadata": {
        "id": "6zdRkhyDgkS2",
        "colab": {
          "base_uri": "https://localhost:8080/"
        },
        "outputId": "23214ea7-3749-4323-e58a-2c9b79f5d298"
      },
      "outputs": [
        {
          "output_type": "stream",
          "name": "stdout",
          "text": [
            "[[629  28  83  28  33  22  13  10 129  25]\n",
            " [ 30 774  10  22  15   7  25   4  56  57]\n",
            " [ 99  12 376 110 151 100  62  43  39   8]\n",
            " [ 57  25  92 374  86 173  95  43  25  30]\n",
            " [ 36  13 119  76 492  63  96  73  25   7]\n",
            " [ 19  12  85 205  69 467  53  67  14   9]\n",
            " [ 23  14  59  73  61  54 680  11  17   8]\n",
            " [ 25   9  55  59 105  80   8 612  24  23]\n",
            " [126  83  33  19  25  10  23  19 620  42]\n",
            " [ 28  88  15  25  20  19  10  40  63 692]]\n",
            "\n",
            " [0.629 0.774 0.376 0.374 0.492 0.467 0.68  0.612 0.62  0.692]\n"
          ]
        }
      ],
      "source": [
        "# compute the confusion matrix\n",
        "c_matrix = confusion_matrix(test_y, y_pred)\n",
        "print(c_matrix)\n",
        "# print(type(c_matrix))\n",
        "# confusion matrix with normalized values\n",
        "print(\"\\n\", c_matrix.diagonal() / c_matrix.sum(axis=1))"
      ]
    }
  ],
  "metadata": {
    "colab": {
      "provenance": [],
      "machine_shape": "hm"
    },
    "kernelspec": {
      "display_name": "Python 3",
      "name": "python3"
    },
    "language_info": {
      "name": "python"
    },
    "gpuClass": "standard",
    "accelerator": "TPU"
  },
  "nbformat": 4,
  "nbformat_minor": 0
}